{
 "cells": [
  {
   "cell_type": "code",
   "execution_count": 2,
   "id": "3cebf2db",
   "metadata": {},
   "outputs": [],
   "source": [
    "import random\n",
    "\n",
    "from typing import TypedDict\n",
    "from langgraph.graph import StateGraph, END"
   ]
  },
  {
   "cell_type": "code",
   "execution_count": 3,
   "id": "d1cd2614",
   "metadata": {},
   "outputs": [],
   "source": [
    "class AgentState(TypedDict):\n",
    "    \"\"\"State for the agent.\"\"\"\n",
    "    name: str\n",
    "    number: list[int]\n",
    "    counter: int"
   ]
  },
  {
   "cell_type": "code",
   "execution_count": 5,
   "id": "f45b7c1f",
   "metadata": {},
   "outputs": [],
   "source": [
    "def greeting_node(state: AgentState) -> AgentState:\n",
    "    \"\"\"Generate a greeting message.\"\"\"\n",
    "    state[\"name\"] = f\"Hi there, {state['name']}!\"\n",
    "    state[\"counter\"] = 0\n",
    "    return state\n",
    "\n",
    "def random_node(state: AgentState) -> AgentState:\n",
    "    \"\"\"Generate a random number and add it to the state.\"\"\"\n",
    "    state[\"number\"].append(random.randint(1, 100))\n",
    "    state[\"counter\"] += 1\n",
    "    return state\n",
    "\n",
    "def should_continue(state: AgentState) -> AgentState:\n",
    "    \"\"\"Check if the agent should continue.\"\"\"\n",
    "    if state[\"counter\"] < 5:\n",
    "        print(f\"ENTERING LOOP: {state['counter']}\")\n",
    "        return \"loop\" # Continue the loop\n",
    "    else:\n",
    "        print(f\"EXITING LOOP: {state['counter']}\")\n",
    "        return \"exit\" # Exit the loop"
   ]
  },
  {
   "cell_type": "code",
   "execution_count": null,
   "id": "8c4daaad",
   "metadata": {},
   "outputs": [
    {
     "data": {
      "image/png": "[encoded data removed]",
      "text/plain": [
       "<langgraph.graph.state.CompiledStateGraph object at 0x0000012F2C573DF0>"
      ]
     },
     "execution_count": 6,
     "metadata": {},
     "output_type": "execute_result"
    }
   ],
   "source": [
    "graph = StateGraph(state_schema=AgentState)\n",
    "\n",
    "graph.add_node(node=\"greeting\", action=greeting_node)\n",
    "graph.add_node(node=\"random\", action=random_node)\n",
    "\n",
    "graph.set_entry_point(key=\"greeting\")\n",
    "graph.add_edge(start_key=\"greeting\", end_key=\"random\")\n",
    "graph.add_conditional_edges(\n",
    "    source=\"random\",\n",
    "    path=should_continue,\n",
    "    path_map={\"loop\": \"random\", \"exit\": END}\n",
    ")\n",
    "app = graph.compile()\n",
    "app"
   ]
  },
  {
   "cell_type": "code",
   "execution_count": 10,
   "id": "d5ae06c3",
   "metadata": {},
   "outputs": [
    {
     "data": {
      "image/png": "[encoded data removed]",
      "text/plain": [
       "<IPython.core.display.Image object>"
      ]
     },
     "metadata": {},
     "output_type": "display_data"
    }
   ],
   "source": [
    "from IPython.display import Image, display\n",
    "display(Image(app.get_graph().draw_mermaid_png()))"
   ]
  },
  {
   "cell_type": "code",
   "execution_count": 14,
   "id": "ea8c89b1",
   "metadata": {},
   "outputs": [
    {
     "name": "stdout",
     "output_type": "stream",
     "text": [
      "ENTERING LOOP: 1\n",
      "ENTERING LOOP: 2\n",
      "ENTERING LOOP: 3\n",
      "ENTERING LOOP: 4\n",
      "EXITING LOOP: 5\n"
     ]
    },
    {
     "data": {
      "text/plain": [
       "{'name': 'Hi there, Alice!', 'number': [82, 23, 69, 5, 53], 'counter': 5}"
      ]
     },
     "execution_count": 14,
     "metadata": {},
     "output_type": "execute_result"
    }
   ],
   "source": [
    "app.invoke({\"name\": \"Alice\", \"number\": [], \"counter\": -103})"
   ]
  },
  {
   "cell_type": "code",
   "execution_count": 28,
   "id": "9a2fe265",
   "metadata": {},
   "outputs": [],
   "source": [
    "class AgentState(TypedDict):\n",
    "    \"\"\"State for the agent.\"\"\"\n",
    "    player_name: str\n",
    "    target_number: int\n",
    "    guesses: list[int]\n",
    "    attempts: int\n",
    "    hint: str\n",
    "    lower_bound: int\n",
    "    upper_bound: int"
   ]
  },
  {
   "cell_type": "code",
   "execution_count": 33,
   "id": "8315e366",
   "metadata": {},
   "outputs": [],
   "source": [
    "def setup_node(state: AgentState) -> AgentState:\n",
    "    \"\"\"Setup the agent state.\"\"\"\n",
    "    state[\"player_name\"] = f\"Hi there, {state['player_name']}!\"\n",
    "    state[\"target_number\"] = random.randint(1, 20)\n",
    "    state[\"guesses\"] = []\n",
    "    state[\"attempts\"] = 0\n",
    "    state[\"hint\"] = \"Game on! Try to guess the number between 1 and 20.\"\n",
    "    state[\"lower_bound\"] = 1\n",
    "    state[\"upper_bound\"] = 20\n",
    "    print(f\"Player {state['player_name']} is trying to guess the number {state['target_number']}.\")\n",
    "    return state\n",
    "\n",
    "def guess_node(state: AgentState) -> AgentState:\n",
    "    \"\"\"Process the player's guess.\"\"\"\n",
    "    possible_guesses = [i for i in range(state[\"lower_bound\"], state[\"upper_bound\"] + 1) if i not in state[\"guesses\"]]\n",
    "    if possible_guesses:\n",
    "        guess = random.choice(possible_guesses)\n",
    "    else:\n",
    "        guess = random.randint(state[\"lower_bound\"], state[\"upper_bound\"])\n",
    "\n",
    "    state[\"guesses\"].append(guess)\n",
    "    state[\"attempts\"] += 1\n",
    "    print(f\"Player {state['player_name']} guessed: {guess}\")\n",
    "    return state\n",
    "\n",
    "def hint_node(state: AgentState) -> AgentState:\n",
    "    \"\"\"Provide a hint based on the player's guess.\"\"\"\n",
    "    if state[\"guesses\"][-1] < state[\"target_number\"]:\n",
    "        state[\"hint\"] = \"Higher!\"\n",
    "        state[\"lower_bound\"] = max(state[\"lower_bound\"], state[\"guesses\"][-1] + 1)\n",
    "    elif state[\"guesses\"][-1] > state[\"target_number\"]:\n",
    "        state[\"hint\"] = \"Lower!\"\n",
    "        state[\"upper_bound\"] = min(state[\"upper_bound\"], state[\"guesses\"][-1] - 1)\n",
    "    else:\n",
    "        state[\"hint\"] = f\"Correct! The number was {state['target_number']} and you guessed in {state['attempts']}.\"\n",
    "    print(f\"Hint: {state['hint']}\")\n",
    "    return state"
   ]
  },
  {
   "cell_type": "code",
   "execution_count": null,
   "id": "41c4e473",
   "metadata": {},
   "outputs": [],
   "source": [
    "def hint_node(state: AgentState) -> AgentState:\n",
    "    \"\"\"Provide a hint based on the player's guess.\"\"\"\n",
    "    match state[\"guesses\"][-1]:\n",
    "        case guess if guess < state[\"target_number\"]:\n",
    "            state[\"hint\"] = \"Higher!\"\n",
    "            state[\"lower_bound\"] = max(state[\"lower_bound\"], guess + 1)\n",
    "        case guess if guess > state[\"target_number\"]:\n",
    "            state[\"hint\"] = \"Lower!\"\n",
    "            state[\"upper_bound\"] = min(state[\"upper_bound\"], guess - 1)\n",
    "        case _:\n",
    "            state[\"hint\"] = f\"Correct! The number was {state['target_number']} and you guessed in {state['attempts']}.\"\n",
    "    print(f\"Hint: {state['hint']}\")\n",
    "    return state"
   ]
  },
  {
   "cell_type": "code",
   "execution_count": 34,
   "id": "5eeae1da",
   "metadata": {},
   "outputs": [],
   "source": [
    "def should_continue(state: AgentState) -> str:\n",
    "    \"\"\"Determine if we should continue guessing or end the game\"\"\"\n",
    "    \n",
    "    # There are 2 end conditions - either 7 is reached or the correct number is guessed\n",
    "    \n",
    "    latest_guess = state[\"guesses\"][-1]\n",
    "    if latest_guess == state[\"target_number\"]:\n",
    "        print(f\"GAME OVER: Number found!\")\n",
    "        return \"end\"\n",
    "    elif state[\"attempts\"] >= 7:\n",
    "        print(f\"GAME OVER: Maximum attempts reached! The number was {state['target_number']}\")\n",
    "        return \"end\"\n",
    "    else:\n",
    "        print(f\"CONTINUING: {state['attempts']}/7 attempts used\")\n",
    "        return \"continue\""
   ]
  },
  {
   "cell_type": "code",
   "execution_count": null,
   "id": "e27f3d56",
   "metadata": {},
   "outputs": [
    {
     "data": {
      "image/png": "[encoded data removed]",
      "text/plain": [
       "<langgraph.graph.state.CompiledStateGraph object at 0x0000012F2D7E9D50>"
      ]
     },
     "execution_count": 43,
     "metadata": {},
     "output_type": "execute_result"
    }
   ],
   "source": [
    "graph = StateGraph(state_schema=AgentState)\n",
    "\n",
    "graph.add_node(node=\"setup_layer\", action=setup_node)\n",
    "graph.add_node(node=\"guess_layer\", action=guess_node)\n",
    "graph.add_node(node=\"hint_layer\", action=hint_node)\n",
    "\n",
    "graph.set_entry_point(key=\"setup_layer\")\n",
    "\n",
    "graph.add_edge(start_key=\"setup_layer\", end_key=\"guess_layer\")\n",
    "\n",
    "graph.add_conditional_edges(\n",
    "    source=\"hint_layer\",\n",
    "    path=should_continue,\n",
    "    path_map={\"continue\": \"guess_layer\", \"end\": END}\n",
    ")\n",
    "\n",
    "graph.add_edge(start_key=\"guess_layer\", end_key=\"hint_layer\")\n",
    "\n",
    "app = graph.compile()\n",
    "app"
   ]
  },
  {
   "cell_type": "code",
   "execution_count": 42,
   "id": "14efe6f7",
   "metadata": {},
   "outputs": [
    {
     "name": "stdout",
     "output_type": "stream",
     "text": [
      "Player Hi there, Student! is trying to guess the number 5.\n",
      "Player Hi there, Student! guessed: 11\n",
      "Hint: Lower!\n",
      "CONTINUING: 1/7 attempts used\n",
      "Player Hi there, Student! guessed: 9\n",
      "Hint: Lower!\n",
      "CONTINUING: 2/7 attempts used\n",
      "Player Hi there, Student! guessed: 3\n",
      "Hint: Higher!\n",
      "CONTINUING: 3/7 attempts used\n",
      "Player Hi there, Student! guessed: 7\n",
      "Hint: Lower!\n",
      "CONTINUING: 4/7 attempts used\n",
      "Player Hi there, Student! guessed: 4\n",
      "Hint: Higher!\n",
      "CONTINUING: 5/7 attempts used\n",
      "Player Hi there, Student! guessed: 6\n",
      "Hint: Lower!\n",
      "CONTINUING: 6/7 attempts used\n",
      "Player Hi there, Student! guessed: 5\n",
      "Hint: Correct! The number was 5 and you guessed in 7.\n",
      "GAME OVER: Number found!\n"
     ]
    }
   ],
   "source": [
    "result = app.invoke({\"player_name\": \"Student\", \"guesses\": [], \"attempts\": 0, \"lower_bound\": 1, \"upper_bound\": 20})"
   ]
  },
  {
   "cell_type": "code",
   "execution_count": null,
   "id": "6357c225",
   "metadata": {},
   "outputs": [],
   "source": []
  }
 ],
 "metadata": {
  "kernelspec": {
   "display_name": "langgraphstudy",
   "language": "python",
   "name": "python3"
  },
  "language_info": {
   "codemirror_mode": {
    "name": "ipython",
    "version": 3
   },
   "file_extension": ".py",
   "mimetype": "text/x-python",
   "name": "python",
   "nbconvert_exporter": "python",
   "pygments_lexer": "ipython3",
   "version": "3.10.16"
  }
 },
 "nbformat": 4,
 "nbformat_minor": 5
}
