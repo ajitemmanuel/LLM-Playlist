{
 "cells": [
  {
   "cell_type": "code",
   "execution_count": 1,
   "id": "ee03c1b7",
   "metadata": {},
   "outputs": [],
   "source": [
    "from typing import TypedDict\n",
    "from langgraph.graph import StateGraph"
   ]
  },
  {
   "cell_type": "markdown",
   "id": "e7ceda6f",
   "metadata": {},
   "source": [
    "# SIngle Input"
   ]
  },
  {
   "cell_type": "code",
   "execution_count": 2,
   "id": "87b64125",
   "metadata": {},
   "outputs": [],
   "source": [
    "class AgentState(TypedDict):\n",
    "    \"\"\"\n",
    "    Represents the state of the agent.\n",
    "    \"\"\"\n",
    "    message: str"
   ]
  },
  {
   "cell_type": "code",
   "execution_count": 3,
   "id": "f43a1743",
   "metadata": {},
   "outputs": [],
   "source": [
    "a1 = AgentState(message=\"Hello, world!\")"
   ]
  },
  {
   "cell_type": "code",
   "execution_count": 4,
   "id": "429f4fdc",
   "metadata": {},
   "outputs": [
    {
     "data": {
      "text/plain": [
       "{'message': 'Hello, world!'}"
      ]
     },
     "execution_count": 4,
     "metadata": {},
     "output_type": "execute_result"
    }
   ],
   "source": [
    "a1"
   ]
  },
  {
   "cell_type": "code",
   "execution_count": 5,
   "id": "b77389d0",
   "metadata": {},
   "outputs": [],
   "source": [
    "a2 = AgentState(message=1234)"
   ]
  },
  {
   "cell_type": "code",
   "execution_count": 6,
   "id": "367b31fb",
   "metadata": {},
   "outputs": [
    {
     "data": {
      "text/plain": [
       "{'message': 1234}"
      ]
     },
     "execution_count": 6,
     "metadata": {},
     "output_type": "execute_result"
    }
   ],
   "source": [
    "a2"
   ]
  },
  {
   "cell_type": "code",
   "execution_count": 7,
   "id": "55439566",
   "metadata": {},
   "outputs": [],
   "source": [
    "def greeting_node(state: AgentState) -> AgentState:\n",
    "    \"\"\"\n",
    "    A node that returns a greeting message.\n",
    "    \"\"\"\n",
    "    state['message'] = \"Hey \" + state['message'] + \", how are you?\"\n",
    "    return state"
   ]
  },
  {
   "cell_type": "code",
   "execution_count": 8,
   "id": "6d71f702",
   "metadata": {},
   "outputs": [
    {
     "data": {
      "text/plain": [
       "{'message': 'Hey Ajit, how are you?'}"
      ]
     },
     "execution_count": 8,
     "metadata": {},
     "output_type": "execute_result"
    }
   ],
   "source": [
    "greeting_node(state={'message': \"Ajit\"})"
   ]
  },
  {
   "cell_type": "code",
   "execution_count": 9,
   "id": "dce3ae0f",
   "metadata": {},
   "outputs": [
    {
     "data": {
      "text/plain": [
       "<langgraph.graph.state.StateGraph at 0x258157d3c40>"
      ]
     },
     "execution_count": 9,
     "metadata": {},
     "output_type": "execute_result"
    }
   ],
   "source": [
    "graph = StateGraph(state_schema=AgentState)\n",
    "graph"
   ]
  },
  {
   "cell_type": "code",
   "execution_count": 10,
   "id": "4992a6b5",
   "metadata": {},
   "outputs": [
    {
     "data": {
      "text/plain": [
       "<langgraph.graph.state.StateGraph at 0x258157d3c40>"
      ]
     },
     "execution_count": 10,
     "metadata": {},
     "output_type": "execute_result"
    }
   ],
   "source": [
    "graph.add_node(node=\"greeting\", action=greeting_node)"
   ]
  },
  {
   "cell_type": "code",
   "execution_count": 11,
   "id": "d4d63262",
   "metadata": {},
   "outputs": [
    {
     "data": {
      "text/plain": [
       "<langgraph.graph.state.StateGraph at 0x258157d3c40>"
      ]
     },
     "execution_count": 11,
     "metadata": {},
     "output_type": "execute_result"
    }
   ],
   "source": [
    "graph.set_entry_point(key=\"greeting\")\n",
    "graph.set_finish_point(key=\"greeting\")"
   ]
  },
  {
   "cell_type": "code",
   "execution_count": 12,
   "id": "e1ed387f",
   "metadata": {},
   "outputs": [],
   "source": [
    "app = graph.compile()"
   ]
  },
  {
   "cell_type": "code",
   "execution_count": 13,
   "id": "f8b443cf",
   "metadata": {},
   "outputs": [
    {
     "data": {
      "image/png": "[encoded data removed]",
      "text/plain": [
       "<langgraph.graph.state.CompiledStateGraph object at 0x00000258157D3C70>"
      ]
     },
     "execution_count": 13,
     "metadata": {},
     "output_type": "execute_result"
    }
   ],
   "source": [
    "app"
   ]
  },
  {
   "cell_type": "code",
   "execution_count": 14,
   "id": "3fa5e0b3",
   "metadata": {},
   "outputs": [
    {
     "data": {
      "text/plain": [
       "Graph(nodes={'__start__': Node(id='__start__', name='__start__', data=<class 'langchain_core.utils.pydantic.LangGraphInput'>, metadata=None), 'greeting': Node(id='greeting', name='greeting', data=greeting(tags=None, recurse=True, explode_args=False, func_accepts_config=False, func_accepts={}), metadata=None), '__end__': Node(id='__end__', name='__end__', data=<class 'langchain_core.utils.pydantic.LangGraphOutput'>, metadata=None)}, edges=[Edge(source='__start__', target='greeting', data=None, conditional=False), Edge(source='greeting', target='__end__', data=None, conditional=False)])"
      ]
     },
     "execution_count": 14,
     "metadata": {},
     "output_type": "execute_result"
    }
   ],
   "source": [
    "app.get_graph()"
   ]
  },
  {
   "cell_type": "code",
   "execution_count": 15,
   "id": "36f7ab23",
   "metadata": {},
   "outputs": [
    {
     "data": {
      "text/plain": [
       "{'message': 'Hey Ajit, how are you?'}"
      ]
     },
     "execution_count": 15,
     "metadata": {},
     "output_type": "execute_result"
    }
   ],
   "source": [
    "app.invoke(input={'message': \"Ajit\"})"
   ]
  },
  {
   "cell_type": "code",
   "execution_count": 16,
   "id": "fececf89",
   "metadata": {},
   "outputs": [
    {
     "data": {
      "text/plain": [
       "{'message': 'Hey Ajit Emmanuel, how are you?'}"
      ]
     },
     "execution_count": 16,
     "metadata": {},
     "output_type": "execute_result"
    }
   ],
   "source": [
    "result = app.invoke(input={'message': \"Ajit Emmanuel\"})\n",
    "result"
   ]
  },
  {
   "cell_type": "markdown",
   "id": "6acdc130",
   "metadata": {},
   "source": [
    "# Multiple Input Graph"
   ]
  },
  {
   "cell_type": "code",
   "execution_count": 17,
   "id": "99ad223a",
   "metadata": {},
   "outputs": [],
   "source": [
    "from typing import TypedDict\n",
    "from langgraph.graph import StateGraph"
   ]
  },
  {
   "cell_type": "code",
   "execution_count": 18,
   "id": "9298cd1e",
   "metadata": {},
   "outputs": [],
   "source": [
    "class AgentState(TypedDict):\n",
    "    \"\"\"\n",
    "    Represents the state of the agent.\n",
    "    \"\"\"\n",
    "    values: list[int ]\n",
    "    name: str\n",
    "    result: str"
   ]
  },
  {
   "cell_type": "code",
   "execution_count": 19,
   "id": "0541cc9a",
   "metadata": {},
   "outputs": [],
   "source": [
    "def process_values(state: AgentState) -> AgentState:\n",
    "    \"\"\"\n",
    "    A node that processes a list of values.\n",
    "    \"\"\"\n",
    "    state['result'] = f\"Hi there {state['name']}! Your sum is {sum(state['values'])}.\"\n",
    "    return state"
   ]
  },
  {
   "cell_type": "code",
   "execution_count": 20,
   "id": "258cc6be",
   "metadata": {},
   "outputs": [
    {
     "data": {
      "image/png": "[encoded data removed]",
      "text/plain": [
       "<langgraph.graph.state.CompiledStateGraph object at 0x000002581784B7F0>"
      ]
     },
     "execution_count": 20,
     "metadata": {},
     "output_type": "execute_result"
    }
   ],
   "source": [
    "graph = StateGraph(state_schema=AgentState)\n",
    "graph.add_node(node=\"processor\", action=process_values)\n",
    "graph.set_entry_point(key=\"processor\")\n",
    "graph.set_finish_point(key=\"processor\")\n",
    "app1 = graph.compile()\n",
    "app1"
   ]
  },
  {
   "cell_type": "code",
   "execution_count": 21,
   "id": "73dacd52",
   "metadata": {},
   "outputs": [
    {
     "data": {
      "text/plain": [
       "{'values': [1, 2, 3],\n",
       " 'name': 'Ajit',\n",
       " 'result': 'Hi there Ajit! Your sum is 6.'}"
      ]
     },
     "execution_count": 21,
     "metadata": {},
     "output_type": "execute_result"
    }
   ],
   "source": [
    "app1.invoke(input={'values': [1, 2, 3], 'name': \"Ajit\"})"
   ]
  },
  {
   "cell_type": "markdown",
   "id": "70159e80",
   "metadata": {},
   "source": [
    "# Sequential Graph"
   ]
  },
  {
   "cell_type": "code",
   "execution_count": 22,
   "id": "d48696fc",
   "metadata": {},
   "outputs": [],
   "source": [
    "class AgentState(TypedDict):\n",
    "    \"\"\"\n",
    "    Represents the state of the agent.\n",
    "    \"\"\"\n",
    "    name: str\n",
    "    age: int\n",
    "    final: str"
   ]
  },
  {
   "cell_type": "code",
   "execution_count": 23,
   "id": "80939110",
   "metadata": {},
   "outputs": [],
   "source": [
    "def first_node(state: AgentState) -> AgentState:\n",
    "    \"\"\"\n",
    "    A node that processes the first part of the state.\n",
    "    \"\"\"\n",
    "    state['final'] = f\"Hello {state['name']}!\"\n",
    "    return state\n",
    "\n",
    "def second_node(state: AgentState) -> AgentState:\n",
    "    \"\"\"\n",
    "    A node that processes the second part of the state.\n",
    "    \"\"\"\n",
    "    state['final'] += f\" You are {state['age']} years old.\"\n",
    "    return state"
   ]
  },
  {
   "cell_type": "code",
   "execution_count": 24,
   "id": "457cd735",
   "metadata": {},
   "outputs": [
    {
     "data": {
      "image/png": "[encoded data removed]",
      "text/plain": [
       "<langgraph.graph.state.CompiledStateGraph object at 0x000002581796FEE0>"
      ]
     },
     "execution_count": 24,
     "metadata": {},
     "output_type": "execute_result"
    }
   ],
   "source": [
    "graph = StateGraph(state_schema=AgentState)\n",
    "graph.add_node(node=\"first\", action=first_node)\n",
    "graph.add_node(node=\"second\", action=second_node)\n",
    "\n",
    "graph.add_edge(start_key =\"first\", end_key =\"second\")\n",
    "\n",
    "graph.set_entry_point(key=\"first\")\n",
    "graph.set_finish_point(key=\"second\")\n",
    "\n",
    "app2 = graph.compile()\n",
    "app2"
   ]
  },
  {
   "cell_type": "code",
   "execution_count": 25,
   "id": "33c620a8",
   "metadata": {},
   "outputs": [
    {
     "data": {
      "text/plain": [
       "{'name': 'Ajit', 'age': 40, 'final': 'Hello Ajit! You are 40 years old.'}"
      ]
     },
     "execution_count": 25,
     "metadata": {},
     "output_type": "execute_result"
    }
   ],
   "source": [
    "app2.invoke(input={'name': \"Ajit\", 'age': 40})"
   ]
  },
  {
   "cell_type": "code",
   "execution_count": 35,
   "id": "558e9c37",
   "metadata": {},
   "outputs": [],
   "source": [
    "class AgentState(TypedDict):\n",
    "    \"\"\"\n",
    "    Represents the state of the agent.\n",
    "    \"\"\"\n",
    "    name: str\n",
    "    age: int\n",
    "    skills: list[str]\n",
    "    result: str"
   ]
  },
  {
   "cell_type": "code",
   "execution_count": 36,
   "id": "81a11167",
   "metadata": {},
   "outputs": [],
   "source": [
    "def greeting_node(state: AgentState) -> AgentState:\n",
    "    \"\"\"\n",
    "    A node that returns a greeting message.\n",
    "    \"\"\"\n",
    "    state['result'] = f\"Hello {state['name']}! How are you? Welcome to the  world of AI.\"\n",
    "    return state\n",
    "\n",
    "def age_node(state: AgentState) -> AgentState:\n",
    "    \"\"\"\n",
    "    A node that processes the age.\n",
    "    \"\"\"\n",
    "    state['result'] += f\" You are {state['age']} years old.\"\n",
    "    return state\n",
    "\n",
    "def skills_node(state: AgentState) -> AgentState:\n",
    "    \"\"\"\n",
    "    A node that processes the skills.\n",
    "    \"\"\"\n",
    "    state['result'] += f\" Your skills are: {', '.join(state['skills'])}.\"\n",
    "    return state"
   ]
  },
  {
   "cell_type": "code",
   "execution_count": 37,
   "id": "ec8dbafb",
   "metadata": {},
   "outputs": [
    {
     "data": {
      "image/png": "[encoded data removed]",
      "text/plain": [
       "<langgraph.graph.state.CompiledStateGraph object at 0x00000258180E7040>"
      ]
     },
     "execution_count": 37,
     "metadata": {},
     "output_type": "execute_result"
    }
   ],
   "source": [
    "graph = StateGraph(state_schema=AgentState)\n",
    "graph.add_node(node=\"greeter\", action=greeting_node)\n",
    "graph.add_node(node=\"age anlayze\", action=age_node)\n",
    "graph.add_node(node=\"skills analyze\", action=skills_node)\n",
    "\n",
    "graph.set_entry_point(key=\"greeter\")\n",
    "graph.add_edge(start_key=\"greeter\", end_key=\"age anlayze\")\n",
    "graph.add_edge(start_key=\"age anlayze\", end_key=\"skills analyze\")\n",
    "graph.set_finish_point(key=\"skills analyze\")\n",
    "\n",
    "app3 = graph.compile()\n",
    "app3"
   ]
  },
  {
   "cell_type": "code",
   "execution_count": 38,
   "id": "fb0654c2",
   "metadata": {},
   "outputs": [
    {
     "data": {
      "text/plain": [
       "'Hello Ajit! How are you? Welcome to the  world of AI. You are 40 years old. Your skills are: Python, AI, ML.'"
      ]
     },
     "execution_count": 38,
     "metadata": {},
     "output_type": "execute_result"
    }
   ],
   "source": [
    "result = app3.invoke(input={'name': \"Ajit\", 'age': 40, 'skills': [\"Python\", \"AI\", \"ML\"]})\n",
    "result['result']"
   ]
  },
  {
   "cell_type": "markdown",
   "id": "47153c62",
   "metadata": {},
   "source": [
    "# Conditional Graph"
   ]
  },
  {
   "cell_type": "code",
   "execution_count": 39,
   "id": "0a7a39f9",
   "metadata": {},
   "outputs": [],
   "source": [
    "from typing import TypedDict\n",
    "from langgraph.graph import StateGraph, START, END"
   ]
  },
  {
   "cell_type": "code",
   "execution_count": 40,
   "id": "5ac2cb42",
   "metadata": {},
   "outputs": [],
   "source": [
    "class AgentState(TypedDict):\n",
    "    \"\"\"\n",
    "    Represents the state of the agent.\n",
    "    \"\"\"\n",
    "    number1: int\n",
    "    operation: str\n",
    "    number2: int\n",
    "    finalNumber: int"
   ]
  },
  {
   "cell_type": "code",
   "execution_count": 47,
   "id": "9d9be174",
   "metadata": {},
   "outputs": [],
   "source": [
    "def adder(state: AgentState) -> AgentState:\n",
    "    \"\"\"\n",
    "    A node that adds two numbers.\n",
    "    \"\"\"\n",
    "    state['finalNumber'] = state['number1'] + state['number2']\n",
    "    return state\n",
    "\n",
    "def subtractor(state: AgentState) -> AgentState:\n",
    "    \"\"\"\n",
    "    A node that subtracts two numbers.\n",
    "    \"\"\"\n",
    "    state['finalNumber'] = state['number1'] - state['number2']\n",
    "    return state    \n",
    "\n",
    "def decider(state: AgentState) -> str:\n",
    "    \"\"\"\n",
    "    A node that decides which operation to perform.\n",
    "    \"\"\"\n",
    "    if state['operation'] == '+':\n",
    "        return \"addition_operation\"\n",
    "    elif state['operation'] == '-':\n",
    "        return \"subtraction_operation\" "
   ]
  },
  {
   "cell_type": "code",
   "execution_count": 48,
   "id": "11213883",
   "metadata": {},
   "outputs": [
    {
     "data": {
      "image/png": "[encoded data removed]",
      "text/plain": [
       "<langgraph.graph.state.CompiledStateGraph object at 0x0000025817F05000>"
      ]
     },
     "execution_count": 48,
     "metadata": {},
     "output_type": "execute_result"
    }
   ],
   "source": [
    "graph = StateGraph(state_schema=AgentState)\n",
    "graph.add_node(node=\"add_node\", action=adder)\n",
    "graph.add_node(node=\"subtract_node\", action=subtractor)\n",
    "graph.add_node(node=\"route_node\", action=lambda state: state)\n",
    "\n",
    "graph.add_edge(start_key=START, end_key=\"route_node\")\n",
    "graph.add_conditional_edges(source=\"route_node\", \n",
    "                            path=decider,\n",
    "                            path_map={\"addition_operation\": \"add_node\", \"subtraction_operation\": \"subtract_node\"})\n",
    "\n",
    "graph.add_edge(start_key=\"add_node\", end_key=END)\n",
    "graph.add_edge(start_key=\"subtract_node\", end_key=END)\n",
    "\n",
    "app4 = graph.compile()\n",
    "app4"
   ]
  },
  {
   "cell_type": "code",
   "execution_count": 49,
   "id": "2855333a",
   "metadata": {},
   "outputs": [
    {
     "data": {
      "text/plain": [
       "{'number1': 10, 'operation': '+', 'number2': 5, 'finalNumber': 15}"
      ]
     },
     "execution_count": 49,
     "metadata": {},
     "output_type": "execute_result"
    }
   ],
   "source": [
    "result = app4.invoke(input={'number1': 10, 'operation': '+', 'number2': 5})\n",
    "result"
   ]
  },
  {
   "cell_type": "code",
   "execution_count": 50,
   "id": "922f6d30",
   "metadata": {},
   "outputs": [
    {
     "data": {
      "text/plain": [
       "{'number1': 10, 'operation': '-', 'number2': 5, 'finalNumber': 5}"
      ]
     },
     "execution_count": 50,
     "metadata": {},
     "output_type": "execute_result"
    }
   ],
   "source": [
    "result = app4.invoke(input={'number1': 10, 'operation': '-', 'number2': 5})\n",
    "result"
   ]
  },
  {
   "cell_type": "markdown",
   "id": "6f85dc28",
   "metadata": {},
   "source": [
    "# Conditional Graph wiht two router"
   ]
  },
  {
   "cell_type": "code",
   "execution_count": 52,
   "id": "bea333ef",
   "metadata": {},
   "outputs": [],
   "source": [
    "class AgentState(TypedDict):\n",
    "    \"\"\"\n",
    "    Represents the state of the agent.\n",
    "    \"\"\"\n",
    "    number1: int\n",
    "    number2: int\n",
    "    number3: int\n",
    "    number4: int\n",
    "    operation1: str\n",
    "    operation2: str\n",
    "    finalNumber: float"
   ]
  },
  {
   "cell_type": "code",
   "execution_count": 57,
   "id": "5095d192",
   "metadata": {},
   "outputs": [],
   "source": [
    "def add_node(state: AgentState) -> AgentState:\n",
    "    \"\"\"\n",
    "    A node that adds two numbers.\n",
    "    \"\"\"\n",
    "    state['finalNumber'] = state['number1'] + state['number2']\n",
    "    return state\n",
    "\n",
    "def subtract_node(state: AgentState) -> AgentState:\n",
    "    \"\"\"\n",
    "    A node that subtracts two numbers.\n",
    "    \"\"\"\n",
    "    state['finalNumber'] = state['number2'] - state['number1']\n",
    "    return state\n",
    "\n",
    "def multiply_node(state: AgentState) -> AgentState:\n",
    "    \"\"\"\n",
    "    A node that multiplies two numbers.\n",
    "    \"\"\"\n",
    "    state['finalNumber'] *= state['number3']\n",
    "    return state\n",
    "\n",
    "def divide_node(state: AgentState) -> AgentState:\n",
    "    \"\"\"\n",
    "    A node that divides two numbers.\n",
    "    \"\"\"\n",
    "    if state['number4'] > 0:\n",
    "        state['finalNumber'] /= state['number4']\n",
    "    else:\n",
    "        state['finalNumber'] = \"Division by zero error\"\n",
    "    return state"
   ]
  },
  {
   "cell_type": "code",
   "execution_count": 58,
   "id": "7335d602",
   "metadata": {},
   "outputs": [],
   "source": [
    "def decider1(state: AgentState) -> str:\n",
    "    \"\"\"\n",
    "    A node that decides which operation to perform for the first two numbers.\n",
    "    \"\"\"\n",
    "    if state['operation1'] == '+':\n",
    "        return \"add_node\"\n",
    "    elif state['operation1'] == '-':\n",
    "        return \"subtract_node\"\n",
    "    \n",
    "def decider2(state: AgentState) -> str:\n",
    "    \"\"\"\n",
    "    A node that decides which operation to perform for the last two numbers.\n",
    "    \"\"\"\n",
    "    if state['operation2'] == '*':\n",
    "        return \"multiply_node\"\n",
    "    elif state['operation2'] == '/':\n",
    "        return \"divide_node\""
   ]
  },
  {
   "cell_type": "code",
   "execution_count": 59,
   "id": "d3ecac97",
   "metadata": {},
   "outputs": [
    {
     "data": {
      "image/png": "[encoded data removed]",
      "text/plain": [
       "<langgraph.graph.state.CompiledStateGraph object at 0x000002581810B340>"
      ]
     },
     "execution_count": 59,
     "metadata": {},
     "output_type": "execute_result"
    }
   ],
   "source": [
    "graph = StateGraph(state_schema=AgentState)\n",
    "\n",
    "graph.add_node(node=\"add\", action=add_node)\n",
    "graph.add_node(node=\"subtract\", action=subtract_node)\n",
    "graph.add_node(node=\"multiply\", action=multiply_node)\n",
    "graph.add_node(node=\"divide\", action=divide_node)\n",
    "\n",
    "graph.add_node(node=\"route1\", action=lambda state: state)\n",
    "graph.add_node(node=\"route2\", action=lambda state: state)\n",
    "\n",
    "graph.add_edge(start_key=START, end_key=\"route1\")\n",
    "graph.add_conditional_edges(source=\"route1\", \n",
    "                            path=decider1,\n",
    "                            path_map={\"add_node\": \"add\", \"subtract_node\": \"subtract\"})\n",
    "graph.add_edge(start_key=\"add\", end_key=\"route2\")\n",
    "graph.add_edge(start_key=\"subtract\", end_key=\"route2\")\n",
    "graph.add_conditional_edges(source=\"route2\", \n",
    "                            path=decider2,\n",
    "                            path_map={\"multiply_node\": \"multiply\", \"divide_node\": \"divide\"})\n",
    "graph.add_edge(start_key=\"multiply\", end_key=END)\n",
    "graph.add_edge(start_key=\"divide\", end_key=END)\n",
    "\n",
    "app5 = graph.compile()\n",
    "app5"
   ]
  },
  {
   "cell_type": "code",
   "execution_count": 60,
   "id": "98e7740d",
   "metadata": {},
   "outputs": [
    {
     "data": {
      "text/plain": [
       "{'number1': 10,\n",
       " 'number2': 5,\n",
       " 'number3': 20,\n",
       " 'number4': 4,\n",
       " 'operation1': '+',\n",
       " 'operation2': '*',\n",
       " 'finalNumber': 300}"
      ]
     },
     "execution_count": 60,
     "metadata": {},
     "output_type": "execute_result"
    }
   ],
   "source": [
    "result = app5.invoke(input={'number1': 10, 'number2': 5, 'number3': 20, 'number4': 4, 'operation1': '+', 'operation2': '*'})\n",
    "result"
   ]
  },
  {
   "cell_type": "code",
   "execution_count": 63,
   "id": "2dc7b512",
   "metadata": {},
   "outputs": [
    {
     "data": {
      "text/plain": [
       "{'number1': 10,\n",
       " 'number2': 5,\n",
       " 'number3': 20,\n",
       " 'number4': 4,\n",
       " 'operation1': '+',\n",
       " 'operation2': '/',\n",
       " 'finalNumber': 3.75}"
      ]
     },
     "execution_count": 63,
     "metadata": {},
     "output_type": "execute_result"
    }
   ],
   "source": [
    "result = app5.invoke(input={'number1': 10, 'number2': 5, 'number3': 20, 'number4': 4, 'operation1': '+', 'operation2': '/'})\n",
    "result"
   ]
  },
  {
   "cell_type": "code",
   "execution_count": null,
   "id": "c9bbea1d",
   "metadata": {},
   "outputs": [],
   "source": []
  }
 ],
 "metadata": {
  "kernelspec": {
   "display_name": "langgraphstudy",
   "language": "python",
   "name": "python3"
  },
  "language_info": {
   "codemirror_mode": {
    "name": "ipython",
    "version": 3
   },
   "file_extension": ".py",
   "mimetype": "text/x-python",
   "name": "python",
   "nbconvert_exporter": "python",
   "pygments_lexer": "ipython3",
   "version": "3.10.16"
  }
 },
 "nbformat": 4,
 "nbformat_minor": 5
}
