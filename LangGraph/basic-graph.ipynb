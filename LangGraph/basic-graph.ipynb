{
 "cells": [
  {
   "cell_type": "code",
   "execution_count": 1,
   "id": "ee03c1b7",
   "metadata": {},
   "outputs": [],
   "source": [
    "from typing import TypedDict\n",
    "from langgraph.graph import StateGraph"
   ]
  },
  {
   "cell_type": "markdown",
   "id": "e7ceda6f",
   "metadata": {},
   "source": [
    "# SIngle Input"
   ]
  },
  {
   "cell_type": "code",
   "execution_count": 2,
   "id": "87b64125",
   "metadata": {},
   "outputs": [],
   "source": [
    "class AgentState(TypedDict):\n",
    "    \"\"\"\n",
    "    Represents the state of the agent.\n",
    "    \"\"\"\n",
    "    message: str"
   ]
  },
  {
   "cell_type": "code",
   "execution_count": 3,
   "id": "f43a1743",
   "metadata": {},
   "outputs": [],
   "source": [
    "a1 = AgentState(message=\"Hello, world!\")"
   ]
  },
  {
   "cell_type": "code",
   "execution_count": 4,
   "id": "429f4fdc",
   "metadata": {},
   "outputs": [
    {
     "data": {
      "text/plain": [
       "{'message': 'Hello, world!'}"
      ]
     },
     "execution_count": 4,
     "metadata": {},
     "output_type": "execute_result"
    }
   ],
   "source": [
    "a1"
   ]
  },
  {
   "cell_type": "code",
   "execution_count": 5,
   "id": "b77389d0",
   "metadata": {},
   "outputs": [],
   "source": [
    "a2 = AgentState(message=1234)"
   ]
  },
  {
   "cell_type": "code",
   "execution_count": 6,
   "id": "367b31fb",
   "metadata": {},
   "outputs": [
    {
     "data": {
      "text/plain": [
       "{'message': 1234}"
      ]
     },
     "execution_count": 6,
     "metadata": {},
     "output_type": "execute_result"
    }
   ],
   "source": [
    "a2"
   ]
  },
  {
   "cell_type": "code",
   "execution_count": 7,
   "id": "55439566",
   "metadata": {},
   "outputs": [],
   "source": [
    "def greeting_node(state: AgentState) -> AgentState:\n",
    "    \"\"\"\n",
    "    A node that returns a greeting message.\n",
    "    \"\"\"\n",
    "    state['message'] = \"Hey \" + state['message'] + \", how are you?\"\n",
    "    return state"
   ]
  },
  {
   "cell_type": "code",
   "execution_count": 8,
   "id": "6d71f702",
   "metadata": {},
   "outputs": [
    {
     "data": {
      "text/plain": [
       "{'message': 'Hey Ajit, how are you?'}"
      ]
     },
     "execution_count": 8,
     "metadata": {},
     "output_type": "execute_result"
    }
   ],
   "source": [
    "greeting_node(state={'message': \"Ajit\"})"
   ]
  },
  {
   "cell_type": "code",
   "execution_count": 9,
   "id": "dce3ae0f",
   "metadata": {},
   "outputs": [
    {
     "data": {
      "text/plain": [
       "<langgraph.graph.state.StateGraph at 0x258157d3c40>"
      ]
     },
     "execution_count": 9,
     "metadata": {},
     "output_type": "execute_result"
    }
   ],
   "source": [
    "graph = StateGraph(state_schema=AgentState)\n",
    "graph"
   ]
  },
  {
   "cell_type": "code",
   "execution_count": 10,
   "id": "4992a6b5",
   "metadata": {},
   "outputs": [
    {
     "data": {
      "text/plain": [
       "<langgraph.graph.state.StateGraph at 0x258157d3c40>"
      ]
     },
     "execution_count": 10,
     "metadata": {},
     "output_type": "execute_result"
    }
   ],
   "source": [
    "graph.add_node(node=\"greeting\", action=greeting_node)"
   ]
  },
  {
   "cell_type": "code",
   "execution_count": 11,
   "id": "d4d63262",
   "metadata": {},
   "outputs": [
    {
     "data": {
      "text/plain": [
       "<langgraph.graph.state.StateGraph at 0x258157d3c40>"
      ]
     },
     "execution_count": 11,
     "metadata": {},
     "output_type": "execute_result"
    }
   ],
   "source": [
    "graph.set_entry_point(key=\"greeting\")\n",
    "graph.set_finish_point(key=\"greeting\")"
   ]
  },
  {
   "cell_type": "code",
   "execution_count": 12,
   "id": "e1ed387f",
   "metadata": {},
   "outputs": [],
   "source": [
    "app = graph.compile()"
   ]
  },
  {
   "cell_type": "code",
   "execution_count": null,
   "id": "f8b443cf",
   "metadata": {},
   "outputs": [],
   "source": [
    "app"
   ]
  },
  {
   "cell_type": "code",
   "execution_count": null,
   "id": "3fa5e0b3",
   "metadata": {},
   "outputs": [],
   "source": [
    "app.get_graph()"
   ]
  },
  {
   "cell_type": "code",
   "execution_count": null,
   "id": "36f7ab23",
   "metadata": {},
   "outputs": [],
   "source": [
    "app.invoke(input={'message': \"Ajit\"})"
   ]
  },
  {
   "cell_type": "code",
   "execution_count": null,
   "id": "fececf89",
   "metadata": {},
   "outputs": [],
   "source": [
    "result = app.invoke(input={'message': \"Ajit Emmanuel\"})\n",
    "result"
   ]
  },
  {
   "cell_type": "markdown",
   "id": "6acdc130",
   "metadata": {},
   "source": [
    "# Multiple Input Graph"
   ]
  },
  {
   "cell_type": "code",
   "execution_count": null,
   "id": "99ad223a",
   "metadata": {},
   "outputs": [],
   "source": [
    "from typing import TypedDict\n",
    "from langgraph.graph import StateGraph"
   ]
  },
  {
   "cell_type": "code",
   "execution_count": null,
   "id": "9298cd1e",
   "metadata": {},
   "outputs": [],
   "source": [
    "class AgentState(TypedDict):\n",
    "    \"\"\"\n",
    "    Represents the state of the agent.\n",
    "    \"\"\"\n",
    "    values: list[int ]\n",
    "    name: str\n",
    "    result: str"
   ]
  },
  {
   "cell_type": "code",
   "execution_count": null,
   "id": "0541cc9a",
   "metadata": {},
   "outputs": [],
   "source": [
    "def process_values(state: AgentState) -> AgentState:\n",
    "    \"\"\"\n",
    "    A node that processes a list of values.\n",
    "    \"\"\"\n",
    "    state['result'] = f\"Hi there {state['name']}! Your sum is {sum(state['values'])}.\"\n",
    "    return state"
   ]
  },
  {
   "cell_type": "code",
   "execution_count": null,
   "id": "258cc6be",
   "metadata": {},
   "outputs": [],
   "source": [
    "graph = StateGraph(state_schema=AgentState)\n",
    "graph.add_node(node=\"processor\", action=process_values)\n",
    "graph.set_entry_point(key=\"processor\")\n",
    "graph.set_finish_point(key=\"processor\")\n",
    "app1 = graph.compile()\n",
    "app1"
   ]
  },
  {
   "cell_type": "code",
   "execution_count": null,
   "id": "73dacd52",
   "metadata": {},
   "outputs": [],
   "source": [
    "app1.invoke(input={'values': [1, 2, 3], 'name': \"Ajit\"})"
   ]
  },
  {
   "cell_type": "markdown",
   "id": "70159e80",
   "metadata": {},
   "source": [
    "# Sequential Graph"
   ]
  },
  {
   "cell_type": "code",
   "execution_count": null,
   "id": "d48696fc",
   "metadata": {},
   "outputs": [],
   "source": [
    "class AgentState(TypedDict):\n",
    "    \"\"\"\n",
    "    Represents the state of the agent.\n",
    "    \"\"\"\n",
    "    name: str\n",
    "    age: int\n",
    "    final: str"
   ]
  },
  {
   "cell_type": "code",
   "execution_count": null,
   "id": "80939110",
   "metadata": {},
   "outputs": [],
   "source": [
    "def first_node(state: AgentState) -> AgentState:\n",
    "    \"\"\"\n",
    "    A node that processes the first part of the state.\n",
    "    \"\"\"\n",
    "    state['final'] = f\"Hello {state['name']}!\"\n",
    "    return state\n",
    "\n",
    "def second_node(state: AgentState) -> AgentState:\n",
    "    \"\"\"\n",
    "    A node that processes the second part of the state.\n",
    "    \"\"\"\n",
    "    state['final'] += f\" You are {state['age']} years old.\"\n",
    "    return state"
   ]
  },
  {
   "cell_type": "code",
   "execution_count": null,
   "id": "457cd735",
   "metadata": {},
   "outputs": [],
   "source": [
    "graph = StateGraph(state_schema=AgentState)\n",
    "graph.add_node(node=\"first\", action=first_node)\n",
    "graph.add_node(node=\"second\", action=second_node)\n",
    "\n",
    "graph.add_edge(start_key =\"first\", end_key =\"second\")\n",
    "\n",
    "graph.set_entry_point(key=\"first\")\n",
    "graph.set_finish_point(key=\"second\")\n",
    "\n",
    "app2 = graph.compile()\n",
    "app2"
   ]
  },
  {
   "cell_type": "code",
   "execution_count": null,
   "id": "33c620a8",
   "metadata": {},
   "outputs": [],
   "source": [
    "app2.invoke(input={'name': \"Ajit\", 'age': 40})"
   ]
  },
  {
   "cell_type": "code",
   "execution_count": null,
   "id": "558e9c37",
   "metadata": {},
   "outputs": [],
   "source": [
    "class AgentState(TypedDict):\n",
    "    \"\"\"\n",
    "    Represents the state of the agent.\n",
    "    \"\"\"\n",
    "    name: str\n",
    "    age: int\n",
    "    skills: list[str]"
   ]
  },
  {
   "cell_type": "code",
   "execution_count": null,
   "id": "81a11167",
   "metadata": {},
   "outputs": [],
   "source": []
  }
 ],
 "metadata": {
  "kernelspec": {
   "display_name": "langgraphstudy",
   "language": "python",
   "name": "python3"
  },
  "language_info": {
   "codemirror_mode": {
    "name": "ipython",
    "version": 3
   },
   "file_extension": ".py",
   "mimetype": "text/x-python",
   "name": "python",
   "nbconvert_exporter": "python",
   "pygments_lexer": "ipython3",
   "version": "3.10.16"
  }
 },
 "nbformat": 4,
 "nbformat_minor": 5
}
