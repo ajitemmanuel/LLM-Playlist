{
 "cells": [
  {
   "cell_type": "code",
   "execution_count": 10,
   "id": "6c2ec347",
   "metadata": {},
   "outputs": [],
   "source": [
    "from typing import TypedDict\n",
    "\n",
    "class Movie(TypedDict):\n",
    "    title: str\n",
    "    year: int"
   ]
  },
  {
   "cell_type": "code",
   "execution_count": 11,
   "id": "8c91895e",
   "metadata": {},
   "outputs": [],
   "source": [
    "movie1 = Movie(title=\"Inception\", year=2010)\n",
    "movie2 = Movie(title=\"The Matrix\", year=1999)"
   ]
  },
  {
   "cell_type": "code",
   "execution_count": 12,
   "id": "cdb036ec",
   "metadata": {},
   "outputs": [],
   "source": [
    "movie3 = Movie(title=\"Interstellar\", year=10.05)"
   ]
  },
  {
   "cell_type": "code",
   "execution_count": 13,
   "id": "4c383639",
   "metadata": {},
   "outputs": [
    {
     "data": {
      "text/plain": [
       "{'title': 'Interstellar', 'year': 10.05}"
      ]
     },
     "execution_count": 13,
     "metadata": {},
     "output_type": "execute_result"
    }
   ],
   "source": [
    "movie3"
   ]
  },
  {
   "cell_type": "code",
   "execution_count": 14,
   "id": "04375771",
   "metadata": {},
   "outputs": [
    {
     "name": "stdout",
     "output_type": "stream",
     "text": [
      "content='The capital of India is New Delhi.' additional_kwargs={'refusal': None} response_metadata={'token_usage': {'completion_tokens': 8, 'prompt_tokens': 14, 'total_tokens': 22, 'completion_tokens_details': {'accepted_prediction_tokens': 0, 'audio_tokens': 0, 'reasoning_tokens': 0, 'rejected_prediction_tokens': 0}, 'prompt_tokens_details': {'audio_tokens': 0, 'cached_tokens': 0}}, 'model_name': 'gpt-4o-mini-2024-07-18', 'system_fingerprint': 'fp_34a54ae93c', 'id': 'chatcmpl-BkxVooxEaidaGJL3g1iJUZIdwUBNW', 'service_tier': 'default', 'finish_reason': 'stop', 'logprobs': None} id='run--15dde413-ae6f-4c7e-a07a-0e60c9732968-0' usage_metadata={'input_tokens': 14, 'output_tokens': 8, 'total_tokens': 22, 'input_token_details': {'audio': 0, 'cache_read': 0}, 'output_token_details': {'audio': 0, 'reasoning': 0}}\n"
     ]
    }
   ],
   "source": [
    "%run ./models.py"
   ]
  },
  {
   "cell_type": "code",
   "execution_count": 15,
   "id": "7e73fd23",
   "metadata": {},
   "outputs": [
    {
     "data": {
      "text/plain": [
       "ChatOpenAI(client=<openai.resources.chat.completions.completions.Completions object at 0x0000020331437670>, async_client=<openai.resources.chat.completions.completions.AsyncCompletions object at 0x00000203318939A0>, root_client=<openai.OpenAI object at 0x00000203314369E0>, root_async_client=<openai.AsyncOpenAI object at 0x00000203316E3F70>, model_name='gpt-4o-mini', temperature=0.0, model_kwargs={}, openai_api_key=SecretStr('**********'))"
      ]
     },
     "execution_count": 15,
     "metadata": {},
     "output_type": "execute_result"
    }
   ],
   "source": [
    "llm"
   ]
  },
  {
   "cell_type": "markdown",
   "id": "a8234a63",
   "metadata": {},
   "source": [
    "#Langgraph Elements"
   ]
  },
  {
   "cell_type": "code",
   "execution_count": null,
   "id": "9eca5e4e",
   "metadata": {},
   "outputs": [],
   "source": [
    "# State -> shared data structure\n",
    "# current information\n",
    "# context of entire application"
   ]
  },
  {
   "cell_type": "code",
   "execution_count": null,
   "id": "a0b37422",
   "metadata": {},
   "outputs": [],
   "source": [
    "# Node -> individual functions or operation that perform specific tasks"
   ]
  },
  {
   "cell_type": "code",
   "execution_count": 1,
   "id": "7fea6ce9",
   "metadata": {},
   "outputs": [],
   "source": [
    "# Graph is an overarching structure that connects nodes and manages the flow of data between them."
   ]
  },
  {
   "cell_type": "code",
   "execution_count": 2,
   "id": "297839e4",
   "metadata": {},
   "outputs": [],
   "source": [
    "#Edges are used for connection between nodes, allowing data to flow from one node to another."
   ]
  },
  {
   "cell_type": "code",
   "execution_count": 3,
   "id": "d12d2dc6",
   "metadata": {},
   "outputs": [],
   "source": [
    "#Conditional edges allow for branching logic based on certain conditions, enabling the graph to adapt its flow based on the data being processed."
   ]
  },
  {
   "cell_type": "code",
   "execution_count": 4,
   "id": "3db5c336",
   "metadata": {},
   "outputs": [],
   "source": [
    "#Start is entry point of the graph, where the execution begins.\n",
    "#End is the exit point of the graph, where the execution concludes."
   ]
  },
  {
   "cell_type": "code",
   "execution_count": 5,
   "id": "e9e403dd",
   "metadata": {},
   "outputs": [],
   "source": [
    "#ToolNode main job i sto run a tool"
   ]
  },
  {
   "cell_type": "code",
   "execution_count": 6,
   "id": "4e783e27",
   "metadata": {},
   "outputs": [],
   "source": [
    "#StateGraph -> class in langgrapoh used to builda and compile the graph structure"
   ]
  },
  {
   "cell_type": "code",
   "execution_count": null,
   "id": "cd12924c",
   "metadata": {},
   "outputs": [],
   "source": []
  }
 ],
 "metadata": {
  "kernelspec": {
   "display_name": "langgraphstudy",
   "language": "python",
   "name": "python3"
  },
  "language_info": {
   "codemirror_mode": {
    "name": "ipython",
    "version": 3
   },
   "file_extension": ".py",
   "mimetype": "text/x-python",
   "name": "python",
   "nbconvert_exporter": "python",
   "pygments_lexer": "ipython3",
   "version": "3.10.16"
  }
 },
 "nbformat": 4,
 "nbformat_minor": 5
}
