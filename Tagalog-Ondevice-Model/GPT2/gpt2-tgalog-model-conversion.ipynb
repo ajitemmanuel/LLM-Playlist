{
 "cells": [
  {
   "cell_type": "code",
   "execution_count": 1,
   "metadata": {},
   "outputs": [
    {
     "name": "stdout",
     "output_type": "stream",
     "text": [
      "Requirement already satisfied: mediapipe in /system/conda/miniconda3/envs/cloudspace/lib/python3.10/site-packages (0.10.20)\n",
      "Requirement already satisfied: absl-py in /system/conda/miniconda3/envs/cloudspace/lib/python3.10/site-packages (from mediapipe) (2.1.0)\n",
      "Requirement already satisfied: attrs>=19.1.0 in /system/conda/miniconda3/envs/cloudspace/lib/python3.10/site-packages (from mediapipe) (24.2.0)\n",
      "Requirement already satisfied: flatbuffers>=2.0 in /system/conda/miniconda3/envs/cloudspace/lib/python3.10/site-packages (from mediapipe) (24.3.25)\n",
      "Requirement already satisfied: jax in /system/conda/miniconda3/envs/cloudspace/lib/python3.10/site-packages (from mediapipe) (0.4.37)\n",
      "Requirement already satisfied: jaxlib in /system/conda/miniconda3/envs/cloudspace/lib/python3.10/site-packages (from mediapipe) (0.4.36)\n",
      "Requirement already satisfied: matplotlib in /system/conda/miniconda3/envs/cloudspace/lib/python3.10/site-packages (from mediapipe) (3.8.2)\n",
      "Requirement already satisfied: numpy<2 in /system/conda/miniconda3/envs/cloudspace/lib/python3.10/site-packages (from mediapipe) (1.26.4)\n",
      "Requirement already satisfied: opencv-contrib-python in /system/conda/miniconda3/envs/cloudspace/lib/python3.10/site-packages (from mediapipe) (4.10.0.84)\n",
      "Requirement already satisfied: protobuf<5,>=4.25.3 in /system/conda/miniconda3/envs/cloudspace/lib/python3.10/site-packages (from mediapipe) (4.25.5)\n",
      "Requirement already satisfied: sounddevice>=0.4.4 in /system/conda/miniconda3/envs/cloudspace/lib/python3.10/site-packages (from mediapipe) (0.5.1)\n",
      "Requirement already satisfied: sentencepiece in /system/conda/miniconda3/envs/cloudspace/lib/python3.10/site-packages (from mediapipe) (0.2.0)\n",
      "Requirement already satisfied: CFFI>=1.0 in /system/conda/miniconda3/envs/cloudspace/lib/python3.10/site-packages (from sounddevice>=0.4.4->mediapipe) (1.17.1)\n",
      "Requirement already satisfied: ml_dtypes>=0.4.0 in /system/conda/miniconda3/envs/cloudspace/lib/python3.10/site-packages (from jax->mediapipe) (0.5.0)\n",
      "Requirement already satisfied: opt_einsum in /system/conda/miniconda3/envs/cloudspace/lib/python3.10/site-packages (from jax->mediapipe) (3.4.0)\n",
      "Requirement already satisfied: scipy>=1.10 in /system/conda/miniconda3/envs/cloudspace/lib/python3.10/site-packages (from jax->mediapipe) (1.11.4)\n",
      "Requirement already satisfied: contourpy>=1.0.1 in /system/conda/miniconda3/envs/cloudspace/lib/python3.10/site-packages (from matplotlib->mediapipe) (1.3.1)\n",
      "Requirement already satisfied: cycler>=0.10 in /system/conda/miniconda3/envs/cloudspace/lib/python3.10/site-packages (from matplotlib->mediapipe) (0.12.1)\n",
      "Requirement already satisfied: fonttools>=4.22.0 in /system/conda/miniconda3/envs/cloudspace/lib/python3.10/site-packages (from matplotlib->mediapipe) (4.55.0)\n",
      "Requirement already satisfied: kiwisolver>=1.3.1 in /system/conda/miniconda3/envs/cloudspace/lib/python3.10/site-packages (from matplotlib->mediapipe) (1.4.7)\n",
      "Requirement already satisfied: packaging>=20.0 in /system/conda/miniconda3/envs/cloudspace/lib/python3.10/site-packages (from matplotlib->mediapipe) (24.2)\n",
      "Requirement already satisfied: pillow>=8 in /system/conda/miniconda3/envs/cloudspace/lib/python3.10/site-packages (from matplotlib->mediapipe) (11.0.0)\n",
      "Requirement already satisfied: pyparsing>=2.3.1 in /system/conda/miniconda3/envs/cloudspace/lib/python3.10/site-packages (from matplotlib->mediapipe) (3.2.0)\n",
      "Requirement already satisfied: python-dateutil>=2.7 in /system/conda/miniconda3/envs/cloudspace/lib/python3.10/site-packages (from matplotlib->mediapipe) (2.9.0.post0)\n",
      "Requirement already satisfied: pycparser in /system/conda/miniconda3/envs/cloudspace/lib/python3.10/site-packages (from CFFI>=1.0->sounddevice>=0.4.4->mediapipe) (2.22)\n",
      "Requirement already satisfied: six>=1.5 in /system/conda/miniconda3/envs/cloudspace/lib/python3.10/site-packages (from python-dateutil>=2.7->matplotlib->mediapipe) (1.16.0)\n"
     ]
    }
   ],
   "source": [
    "!pip install mediapipe"
   ]
  },
  {
   "cell_type": "code",
   "execution_count": 2,
   "metadata": {},
   "outputs": [],
   "source": [
    "import mediapipe as mp\n",
    "from mediapipe.tasks.python.genai import bundler\n",
    "tflite_model=\"/teamspace/studios/this_studio/LLM-Playlist/GPT2-Tagalog/tagalog_model.tflite\" # @param {type:\"string\"}\n",
    "tokenizer_model=\"/teamspace/studios/this_studio/LLM-Playlist/GPT2-Tagalog/gpt2_tagalog\" # @param {type:\"string\"}\n",
    "start_token=\"<bos>\" # @param {type:\"string\"}\n",
    "stop_token=\"<eos>\" # @param {type:\"string\"}\n",
    "output_filename=\"tagalog.task\" # @param {type:\"string\"}\n",
    "enable_bytes_to_unicode_mapping=False # @param [\"False\", \"True\"] {type:\"raw\"}"
   ]
  },
  {
   "cell_type": "code",
   "execution_count": null,
   "metadata": {},
   "outputs": [
    {
     "ename": "",
     "evalue": "",
     "output_type": "error",
     "traceback": [
      "\u001b[1;31mThe Kernel crashed while executing code in the current cell or a previous cell. \n",
      "\u001b[1;31mPlease review the code in the cell(s) to identify a possible cause of the failure. \n",
      "\u001b[1;31mClick <a href='https://aka.ms/vscodeJupyterKernelCrash'>here</a> for more info. \n",
      "\u001b[1;31mView Jupyter <a href='command:jupyter.viewOutput'>log</a> for further details."
     ]
    }
   ],
   "source": [
    "config = bundler.BundleConfig(\n",
    "    tflite_model=tflite_model,\n",
    "    tokenizer_model=tokenizer_model,\n",
    "    output_filename=output_filename,\n",
    "    start_token=start_token,\n",
    "    stop_tokens=[stop_token],\n",
    "    enable_bytes_to_unicode_mapping=enable_bytes_to_unicode_mapping,\n",
    ")\n",
    "bundler.create_bundle(config)"
   ]
  },
  {
   "cell_type": "code",
   "execution_count": null,
   "metadata": {},
   "outputs": [],
   "source": [
    "print"
   ]
  },
  {
   "cell_type": "code",
   "execution_count": null,
   "metadata": {},
   "outputs": [],
   "source": [
    "import mediapipe as mp\n",
    "from mediapipe.tasks.python.genai import bundler\n",
    "\n",
    "config = bundler.BundleConfig(\n",
    "    tflite_model=TFLITE_MODEL,\n",
    "    tokenizer_model=TOKENIZER_MODEL,\n",
    "    output_filename=OUTPUT_FILENAME,\n",
    "    enable_bytes_to_unicode_mapping=ENABLE_BYTES_TO_UNICODE_MAPPING,\n",
    ")\n",
    "bundler.create_bundle(config)"
   ]
  },
  {
   "cell_type": "code",
   "execution_count": null,
   "metadata": {},
   "outputs": [],
   "source": [
    "import mediapipe as mp\n",
    "from mediapipe.tasks.python.genai import converter\n",
    "\n",
    "config = converter.ConversionConfig(\n",
    "  # Other params related to base model\n",
    "  ...\n",
    "  # Must use gpu backend for LoRA conversion\n",
    "  backend='gpu',\n",
    "  # LoRA related params\n",
    "  lora_ckpt=LORA_CKPT,\n",
    "  lora_rank=LORA_RANK,\n",
    "  lora_output_tflite_file=LORA_OUTPUT_TFLITE_FILE,\n",
    ")\n",
    "\n",
    "converter.convert_checkpoint(config)"
   ]
  }
 ],
 "metadata": {
  "language_info": {
   "name": "python"
  }
 },
 "nbformat": 4,
 "nbformat_minor": 2
}
