{
 "cells": [
  {
   "cell_type": "code",
   "execution_count": 1,
   "metadata": {},
   "outputs": [],
   "source": [
    "!pip install --quiet pip transformers"
   ]
  },
  {
   "cell_type": "code",
   "execution_count": 2,
   "metadata": {},
   "outputs": [],
   "source": [
    "from transformers import AutoTokenizer, AutoModelForCausalLM, pipeline"
   ]
  },
  {
   "cell_type": "code",
   "execution_count": 3,
   "metadata": {},
   "outputs": [
    {
     "data": {
      "application/vnd.jupyter.widget-view+json": {
       "model_id": "f9e8c41916d94c3196db2f0366ac1cb3",
       "version_major": 2,
       "version_minor": 0
      },
      "text/plain": [
       "pytorch_model.bin:  35%|###4      | 157M/454M [00:00<?, ?B/s]"
      ]
     },
     "metadata": {},
     "output_type": "display_data"
    }
   ],
   "source": [
    "# Load model directly ( Download the model)\n",
    "model_name = \"jcblaise/gpt2-tagalog\"\n",
    "local_path = \"./gpt2_tagalog\"\n",
    "\n",
    "tokenizer = AutoTokenizer.from_pretrained(model_name)\n",
    "model = AutoModelForCausalLM.from_pretrained(model_name)\n",
    "\n",
    "# model_download.save_pretrained(local_path)\n",
    "# tokenizer_download.save_pretrained(local_path)"
   ]
  },
  {
   "cell_type": "code",
   "execution_count": 5,
   "metadata": {},
   "outputs": [
    {
     "data": {
      "text/plain": [
       "'Magandang umaga, paano kita matutulungan sa mga mahihirap? Mag-ingat sa mga sakit na maaaring makuha sa pagkain ng mga mahihirap. Lucky number for today: 30LEO (July 23-August 22) - Mag-ingat sa mga'"
      ]
     },
     "execution_count": 5,
     "metadata": {},
     "output_type": "execute_result"
    }
   ],
   "source": [
    "# Input text for inference\n",
    "input_text = \"Magandang umaga, paano kita matutulungan sa\"\n",
    "\n",
    "# Tokenize the input text\n",
    "input_ids = tokenizer.encode(input_text, return_tensors=\"pt\")\n",
    "\n",
    "# Generate text\n",
    "output_ids = model.generate(input_ids, max_length=50, pad_token_id=tokenizer.eos_token_id)\n",
    "\n",
    "# Decode the generated text\n",
    "output_text = tokenizer.decode(output_ids[0], skip_special_tokens=True)\n",
    "\n",
    "output_text"
   ]
  },
  {
   "cell_type": "code",
   "execution_count": 7,
   "metadata": {},
   "outputs": [
    {
     "name": "stderr",
     "output_type": "stream",
     "text": [
      "Device set to use cpu\n"
     ]
    },
    {
     "data": {
      "text/plain": [
       "[{'generated_text': 'Magandang umaga, paano kita matutulungan sa mga mahihirap? Mag-ingat sa mga sakit na maaaring makuha sa pagkain ng mga mahihirap. Lucky number'}]"
      ]
     },
     "execution_count": 7,
     "metadata": {},
     "output_type": "execute_result"
    }
   ],
   "source": [
    "generator = pipeline(task=\"text-generation\", model=model, tokenizer=tokenizer, pad_token_id=tokenizer.eos_token_id)\n",
    "result = generator(input_text)\n",
    "result"
   ]
  },
  {
   "cell_type": "code",
   "execution_count": 12,
   "metadata": {},
   "outputs": [
    {
     "data": {
      "text/plain": [
       "[{'generated_text': 'Complete the tagalog sentence and predict the next word: Magandang umaga, paano kita matutulungan sa mga susunod na araw?Puno: Hindi naman. Hindi naman. Hindi naman. Hindi naman. Hindi naman ako masyadong na-prosecute'}]"
      ]
     },
     "execution_count": 12,
     "metadata": {},
     "output_type": "execute_result"
    }
   ],
   "source": [
    "input_text = \"Complete the tagalog sentence and predict the next word: Magandang umaga, paano kita matutulungan sa mga\"\n",
    "\n",
    "# Generate the continuation\n",
    "result = generator(input_text, max_length=50)\n",
    "result"
   ]
  },
  {
   "cell_type": "code",
   "execution_count": 13,
   "metadata": {},
   "outputs": [
    {
     "data": {
      "text/plain": [
       "[{'generated_text': 'Sala Lumpur, Malaysia.Ang mga Pinoy ay kabilang sa mga crew ng isang cruise ship na dumaong sa Manila Bay noong Marso 21.Ang mga Pinoy ay kabilang sa mga crew ng MV Royal 16 na dumaong sa Manila Bay noong Marso 21.Ang mga'}]"
      ]
     },
     "execution_count": 13,
     "metadata": {},
     "output_type": "execute_result"
    }
   ],
   "source": [
    "input_text = \"Sala\"\n",
    "\n",
    "# Generate the continuation\n",
    "result = generator(input_text, max_length=50)\n",
    "result"
   ]
  },
  {
   "cell_type": "code",
   "execution_count": 14,
   "metadata": {},
   "outputs": [
    {
     "data": {
      "text/plain": [
       "'Ang ganda ng araw na'"
      ]
     },
     "execution_count": 14,
     "metadata": {},
     "output_type": "execute_result"
    }
   ],
   "source": [
    "text = \"Ang ganda ng araw na it\"\n",
    "last_word = text.split()[-1]  # 'it'\n",
    "context = ' '.join(text.split()[:-1])  # 'Ang ganda ng araw na'\n",
    "context"
   ]
  },
  {
   "cell_type": "code",
   "execution_count": 15,
   "metadata": {},
   "outputs": [
    {
     "name": "stderr",
     "output_type": "stream",
     "text": [
      "The attention mask and the pad token id were not set. As a consequence, you may observe unexpected behavior. Please pass your input's `attention_mask` to obtain reliable results.\n",
      "Setting `pad_token_id` to `eos_token_id`:50256 for open-end generation.\n"
     ]
    },
    {
     "name": "stdout",
     "output_type": "stream",
     "text": [
      "Suggestions: ['Ang ganda ng araw na itinagal ni Kapitan Tiago.Ang mga nakakita kay Maria na nakasuot mestisa at nagniningning sa brilyante', 'Ang ganda ng araw na itinaghal ng Pilipinas ay siyang pista ng Mahal na Poong San Rafael.Ang kalesang sinasakyan ni Ibarra ay masayang bumabagtas', 'Ang ganda ng araw na itinagal ni Kapitan Tiago.Ang mga nakakita kay Ibarra na nakasuot mestisa at nagniningning sa brilyante']\n"
     ]
    }
   ],
   "source": [
    "# Prepare input\n",
    "input_text = f\"{context} {last_word}\"\n",
    "input_ids = tokenizer.encode(input_text, return_tensors=\"pt\")\n",
    "\n",
    "# Generate predictions\n",
    "outputs = model.generate(\n",
    "    input_ids,\n",
    "    max_length=30,\n",
    "    num_return_sequences=3,  # Return top 3 sequences\n",
    "    num_beams=5,\n",
    "    no_repeat_ngram_size=2\n",
    ")\n",
    "\n",
    "# Decode the top 3 predictions\n",
    "suggestions = [tokenizer.decode(output, skip_special_tokens=True) for output in outputs]\n",
    "print(\"Suggestions:\", suggestions)"
   ]
  },
  {
   "cell_type": "code",
   "execution_count": null,
   "metadata": {},
   "outputs": [],
   "source": []
  }
 ],
 "metadata": {
  "kernelspec": {
   "display_name": "cloudspace",
   "language": "python",
   "name": "python3"
  },
  "language_info": {
   "codemirror_mode": {
    "name": "ipython",
    "version": 3
   },
   "file_extension": ".py",
   "mimetype": "text/x-python",
   "name": "python",
   "nbconvert_exporter": "python",
   "pygments_lexer": "ipython3",
   "version": "3.10.10"
  }
 },
 "nbformat": 4,
 "nbformat_minor": 2
}
