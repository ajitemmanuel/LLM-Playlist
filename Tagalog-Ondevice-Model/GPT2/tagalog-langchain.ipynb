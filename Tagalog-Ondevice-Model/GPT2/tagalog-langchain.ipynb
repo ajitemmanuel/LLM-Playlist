{
 "cells": [
  {
   "cell_type": "code",
   "execution_count": 1,
   "metadata": {},
   "outputs": [
    {
     "name": "stdout",
     "output_type": "stream",
     "text": [
      "\u001b[31mERROR: pip's dependency resolver does not currently take into account all the packages that are installed. This behaviour is the source of the following dependency conflicts.\n",
      "langserve 0.2.3 requires langchain-core<0.3,>=0.1, but you have langchain-core 0.3.21 which is incompatible.\n",
      "tensorflow 2.13.0 requires typing-extensions<4.6.0,>=3.6.6, but you have typing-extensions 4.12.2 which is incompatible.\n",
      "tf-nightly 2.19.0.dev20241202 requires numpy<2.2.0,>=1.26.0, but you have numpy 1.23.5 which is incompatible.\n",
      "torchvision 0.17.1+cu121 requires torch==2.2.1, but you have torch 2.5.1 which is incompatible.\u001b[0m\u001b[31m\n",
      "\u001b[0m"
     ]
    }
   ],
   "source": [
    "!pip install --quiet pip transformers langchain"
   ]
  },
  {
   "cell_type": "code",
   "execution_count": 1,
   "metadata": {},
   "outputs": [],
   "source": [
    "from transformers import AutoTokenizer, AutoModelForCausalLM, pipeline"
   ]
  },
  {
   "cell_type": "code",
   "execution_count": null,
   "metadata": {},
   "outputs": [],
   "source": [
    "# from transformers import AutoModelForSequenceClassification, AutoTokenizer\n",
    "\n",
    "# model_name = \"jcblaise/roberta-tagalog-base\"\n",
    "# local_path = \"./roberta-base\"\n",
    "\n",
    "# # Download the model and save it locally\n",
    "# tokenizer = AutoTokenizer.from_pretrained(model_name)\n",
    "# tokenizer.save_pretrained(local_path)\n",
    "\n",
    "# model = AutoModelForSequenceClassification.from_pretrained(model_name)\n",
    "# model.save_pretrained(local_path)"
   ]
  },
  {
   "cell_type": "code",
   "execution_count": 2,
   "metadata": {},
   "outputs": [
    {
     "data": {
      "text/plain": [
       "('./gpt2_tagalog/tokenizer_config.json',\n",
       " './gpt2_tagalog/special_tokens_map.json',\n",
       " './gpt2_tagalog/vocab.json',\n",
       " './gpt2_tagalog/merges.txt',\n",
       " './gpt2_tagalog/added_tokens.json',\n",
       " './gpt2_tagalog/tokenizer.json')"
      ]
     },
     "execution_count": 2,
     "metadata": {},
     "output_type": "execute_result"
    }
   ],
   "source": [
    "# # Load model directly ( Download the model)\n",
    "\n",
    "# model_name = \"jcblaise/gpt2-tagalog\"\n",
    "# local_path = \"./gpt2_tagalog\"\n",
    "\n",
    "# tokenizer_download = AutoTokenizer.from_pretrained(model_name)\n",
    "# model_download = AutoModelForCausalLM.from_pretrained(model_name)\n",
    "\n",
    "# model_download.save_pretrained(local_path)\n",
    "# tokenizer_download.save_pretrained(local_path)"
   ]
  },
  {
   "cell_type": "code",
   "execution_count": null,
   "metadata": {},
   "outputs": [],
   "source": [
    "model_path = \"./gpt2_tagalog\"\n",
    "model = AutoModelForCausalLM.from_pretrained(model_path)\n",
    "tokenizer = AutoTokenizer.from_pretrained(model_path)"
   ]
  },
  {
   "cell_type": "code",
   "execution_count": null,
   "metadata": {},
   "outputs": [],
   "source": [
    "prompt = \"Kamusta, anong bali\"\n",
    "inputs = tokenizer(prompt, return_tensors=\"pt\")\n",
    "inputs"
   ]
  },
  {
   "cell_type": "code",
   "execution_count": null,
   "metadata": {},
   "outputs": [],
   "source": [
    "# Generate response\n",
    "outputs = model.generate(inputs.input_ids, max_length=int(len(prompt) + 1) , num_return_sequences=1)\n",
    "\n",
    "# Decode the generated tokens\n",
    "response = tokenizer.decode(outputs[0], skip_special_tokens=True)\n",
    "response"
   ]
  },
  {
   "cell_type": "code",
   "execution_count": null,
   "metadata": {},
   "outputs": [],
   "source": [
    "generator = pipeline(task=\"text-generation\", model=model, tokenizer=tokenizer)\n",
    "result = generator(prompt)\n",
    "result"
   ]
  },
  {
   "cell_type": "code",
   "execution_count": null,
   "metadata": {},
   "outputs": [],
   "source": [
    "from langchain.llms.base import LLM\n",
    "from typing import Optional, List, Mapping, Any, Dict, ClassVar\n",
    "from transformers import AutoModelForCausalLM, AutoTokenizer  # Import these to use them\n",
    "\n",
    "class CustomLLM(LLM):\n",
    "    model_path: ClassVar[str] = \"./gpt2_tagalog\"  # Annotate as ClassVar\n",
    "    model: Optional[AutoModelForCausalLM] = None  # Provide a type annotation\n",
    "    tokenizer: Optional[AutoTokenizer] = None  # Provide a type annotation\n",
    "\n",
    "    def __init__(self, **kwargs):\n",
    "        super().__init__(**kwargs)\n",
    "        self.model = AutoModelForCausalLM.from_pretrained(self.model_path)\n",
    "        self.tokenizer = AutoTokenizer.from_pretrained(self.model_path)\n",
    "        \n",
    "    @property\n",
    "    def _llm_type(self) -> str:\n",
    "        return \"custom\"\n",
    "    \n",
    "    def _call(self, prompt: str, stop: Optional[List[str]] = None) -> str:\n",
    "        if stop is not None:\n",
    "            raise ValueError(\"stop kwargs are not permitted.\")\n",
    "        return \"This is a dummy LLM that always outputs the same prompt\"\n",
    "    \n",
    "    @property\n",
    "    def _identifying_params(self) -> Mapping[str, Any]:\n",
    "        \"\"\"Get the identifying parameters.\"\"\"\n",
    "        return {}\n",
    "\n",
    "    def get_num_tokens(self, text: str) -> int:\n",
    "        \"\"\"Get the number of tokens present in the text.\"\"\"\n",
    "        return len(self.tokenizer.encode(text))\n"
   ]
  },
  {
   "cell_type": "code",
   "execution_count": null,
   "metadata": {},
   "outputs": [],
   "source": [
    "llm = CustomLLM()"
   ]
  },
  {
   "cell_type": "code",
   "execution_count": null,
   "metadata": {},
   "outputs": [],
   "source": [
    "# Use the model to generate text\n",
    "prompt = \"Kamusta, anong balita?\"\n",
    "response = llm(prompt)\n",
    "print(response)"
   ]
  },
  {
   "cell_type": "code",
   "execution_count": null,
   "metadata": {},
   "outputs": [],
   "source": [
    "llm.invoke(prompt)"
   ]
  },
  {
   "cell_type": "code",
   "execution_count": null,
   "metadata": {},
   "outputs": [],
   "source": [
    "llm = CustomLLM()\n",
    "prompt = \"Complete the sentence: Kamusta, anong bali\"\n",
    "print(llm.invoke(prompt))"
   ]
  },
  {
   "cell_type": "code",
   "execution_count": null,
   "metadata": {},
   "outputs": [],
   "source": [
    "from langchain.llms.base import LLM\n",
    "from langchain.prompts import PromptTemplate\n",
    "from transformers import AutoModelForCausalLM, AutoTokenizer, pipeline\n",
    "from typing import Optional, List, Mapping, Any, Dict, ClassVar\n",
    "\n",
    "class CustomLLM(LLM):\n",
    "    model_path: ClassVar[str] = \"./gpt2_tagalog\"  # Path to your Tagalog model\n",
    "    model: Optional[AutoModelForCausalLM] = None\n",
    "    tokenizer: Optional[AutoTokenizer] = None\n",
    "\n",
    "    def __init__(self, **kwargs):\n",
    "        super().__init__(**kwargs)\n",
    "        self.model = AutoModelForCausalLM.from_pretrained(self.model_path)\n",
    "        self.tokenizer = AutoTokenizer.from_pretrained(self.model_path)\n",
    "        \n",
    "    @property\n",
    "    def _llm_type(self) -> str:\n",
    "        return \"custom\"\n",
    "    \n",
    "    def _call(self, prompt: str, stop: Optional[List[str]] = None) -> List[str]:\n",
    "        if stop is not None:\n",
    "            raise ValueError(\"stop kwargs are not permitted.\")\n",
    "\n",
    "        # Set up the generator to return limited word completions\n",
    "        generator = pipeline(task=\"text-generation\", model=self.model, tokenizer=self.tokenizer)\n",
    "        results = generator(prompt, max_new_tokens=5, num_return_sequences=1)  # Generates 3 options\n",
    "\n",
    "        # Extract and return the top three generated suggestions\n",
    "        suggestions = result[0]['generated_text']\n",
    "        return suggestions\n",
    "    \n",
    "    @property\n",
    "    def _identifying_params(self) -> Mapping[str, Any]:\n",
    "        \"\"\"Get the identifying parameters.\"\"\"\n",
    "        return {}\n",
    "\n",
    "    def get_num_tokens(self, text: str) -> int:\n",
    "        \"\"\"Get the number of tokens present in the text.\"\"\"\n",
    "        return len(self.tokenizer.encode(text))"
   ]
  },
  {
   "cell_type": "code",
   "execution_count": null,
   "metadata": {},
   "outputs": [],
   "source": [
    "llm = CustomLLM()\n",
    "prompt = \"Complete the sentence: Kamusta, anong bali\"\n",
    "print(llm.invoke(prompt))"
   ]
  },
  {
   "cell_type": "code",
   "execution_count": null,
   "metadata": {},
   "outputs": [],
   "source": [
    "from langchain.llms.base import LLM\n",
    "from langchain.prompts import PromptTemplate\n",
    "from transformers import AutoModelForCausalLM, AutoTokenizer, pipeline\n",
    "from typing import Optional, List, Mapping, Any, Dict, ClassVar\n",
    "\n",
    "class CustomLLM(LLM):\n",
    "    model_path: ClassVar[str] = \"./gpt2_tagalog\"  # Path to your Tagalog model\n",
    "    model: Optional[AutoModelForCausalLM] = None\n",
    "    tokenizer: Optional[AutoTokenizer] = None\n",
    "\n",
    "    def __init__(self, **kwargs):\n",
    "        super().__init__(**kwargs)\n",
    "        self.model = AutoModelForCausalLM.from_pretrained(self.model_path)\n",
    "        self.tokenizer = AutoTokenizer.from_pretrained(self.model_path)\n",
    "        \n",
    "    @property\n",
    "    def _llm_type(self) -> str:\n",
    "        return \"custom\"\n",
    "    \n",
    "    def _call(self, prompt: str, stop: Optional[List[str]] = None) -> List[str]:\n",
    "        if stop is not None:\n",
    "            raise ValueError(\"stop kwargs are not permitted.\")\n",
    "\n",
    "        # Initialize the generator with beam search for better output diversity\n",
    "        generator = pipeline(\n",
    "            task=\"text-generation\",\n",
    "            model=self.model,\n",
    "            tokenizer=self.tokenizer\n",
    "        )\n",
    "        result = generator(prompt, max_new_tokens=3, num_return_sequences=1, pad_token_id=generator.tokenizer.eos_token_id)\n",
    "        suggestions = result[0]['generated_text']\n",
    "        return suggestions\n",
    "    \n",
    "    @property\n",
    "    def _identifying_params(self) -> Mapping[str, Any]:\n",
    "        \"\"\"Get the identifying parameters.\"\"\"\n",
    "        return {}\n",
    "\n",
    "    def get_num_tokens(self, text: str) -> int:\n",
    "        \"\"\"Get the number of tokens present in the text.\"\"\"\n",
    "        return len(self.tokenizer.encode(text))"
   ]
  },
  {
   "cell_type": "code",
   "execution_count": null,
   "metadata": {},
   "outputs": [],
   "source": [
    "# Define a prompt template for generating suggestions\n",
    "template = \"complete the last word of the sentence: {input_text}\"\n",
    "prompt_template = PromptTemplate(input_variables=[\"input_text\"], template=template)\n",
    "\n",
    "# Instantiate the Custom LLM\n",
    "llm = CustomLLM()\n",
    "\n",
    "# Define the input text\n",
    "input_text = \"Kamusta, anong bali\"\n",
    "prompt = prompt_template.format(input_text=input_text)\n",
    "\n",
    "# Invoke the LLM with the prompt to get suggestions\n",
    "suggestions = llm._call(prompt)\n",
    "\n",
    "# Print out the suggestions\n",
    "print(\"Suggestions:\", suggestions)"
   ]
  },
  {
   "cell_type": "code",
   "execution_count": null,
   "metadata": {},
   "outputs": [],
   "source": [
    "#10k"
   ]
  }
 ],
 "metadata": {
  "kernelspec": {
   "display_name": "cloudspace",
   "language": "python",
   "name": "python3"
  },
  "language_info": {
   "codemirror_mode": {
    "name": "ipython",
    "version": 3
   },
   "file_extension": ".py",
   "mimetype": "text/x-python",
   "name": "python",
   "nbconvert_exporter": "python",
   "pygments_lexer": "ipython3",
   "version": "3.10.10"
  }
 },
 "nbformat": 4,
 "nbformat_minor": 2
}
