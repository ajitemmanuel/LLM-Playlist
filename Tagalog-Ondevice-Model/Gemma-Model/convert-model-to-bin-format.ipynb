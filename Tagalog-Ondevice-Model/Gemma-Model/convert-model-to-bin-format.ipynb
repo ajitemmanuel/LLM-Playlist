{
 "cells": [
  {
   "cell_type": "code",
   "execution_count": 1,
   "metadata": {},
   "outputs": [
    {
     "name": "stdout",
     "output_type": "stream",
     "text": [
      "\u001b[31mERROR: pip's dependency resolver does not currently take into account all the packages that are installed. This behaviour is the source of the following dependency conflicts.\n",
      "tensorboard 2.15.1 requires protobuf<4.24,>=3.19.6, but you have protobuf 4.25.5 which is incompatible.\u001b[0m\u001b[31m\n",
      "\u001b[0m"
     ]
    }
   ],
   "source": [
    "!pip install --quiet mediapipe"
   ]
  },
  {
   "cell_type": "code",
   "execution_count": 2,
   "metadata": {},
   "outputs": [],
   "source": [
    "import mediapipe as mp\n",
    "from mediapipe.tasks.python.genai import converter"
   ]
  },
  {
   "cell_type": "code",
   "execution_count": 3,
   "metadata": {},
   "outputs": [],
   "source": [
    "INPUT_CKPT = '/teamspace/studios/this_studio/llm-models/gemma1_2b_model_transformer'\n",
    "CKPT_FORMAT='safetensors'\n",
    "MODEL_TYPE='GEMMA_2B'\n",
    "combine_file_only=False\n",
    "BACKEND = \"gpu\"\n",
    "VOCAB_MODEL_FILE = '/teamspace/studios/this_studio/llm-models/gemma1_2b_model_transformer'\n",
    "OUTPUT_DIR = '/teamspace/studios/this_studio/converted-bin-models/gemma1/'\n",
    "OUTPUT_TFLITE_FILE = '/teamspace/studios/this_studio/converted-bin-models/gemma1/gemma1.bin'"
   ]
  },
  {
   "cell_type": "code",
   "execution_count": null,
   "metadata": {},
   "outputs": [],
   "source": [
    "config = converter.ConversionConfig(\n",
    "  input_ckpt=INPUT_CKPT,\n",
    "  ckpt_format=CKPT_FORMAT,\n",
    "  model_type=MODEL_TYPE,\n",
    "  backend=BACKEND,\n",
    "  output_dir=OUTPUT_DIR,\n",
    "  combine_file_only=combine_file_only,\n",
    "  vocab_model_file=VOCAB_MODEL_FILE,\n",
    "  output_tflite_file=OUTPUT_TFLITE_FILE,\n",
    ")\n",
    "\n",
    "converter.convert_checkpoint(config)"
   ]
  },
  {
   "cell_type": "code",
   "execution_count": null,
   "metadata": {},
   "outputs": [],
   "source": []
  }
 ],
 "metadata": {
  "kernelspec": {
   "display_name": "cloudspace",
   "language": "python",
   "name": "python3"
  },
  "language_info": {
   "codemirror_mode": {
    "name": "ipython",
    "version": 3
   },
   "file_extension": ".py",
   "mimetype": "text/x-python",
   "name": "python",
   "nbconvert_exporter": "python",
   "pygments_lexer": "ipython3",
   "version": "3.10.10"
  }
 },
 "nbformat": 4,
 "nbformat_minor": 2
}
