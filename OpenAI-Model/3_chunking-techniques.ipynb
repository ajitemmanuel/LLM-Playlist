{
 "cells": [
  {
   "cell_type": "code",
   "execution_count": 2,
   "metadata": {},
   "outputs": [
    {
     "name": "stdout",
     "output_type": "stream",
     "text": [
      "Note: you may need to restart the kernel to use updated packages.\n"
     ]
    }
   ],
   "source": [
    "%pip install -qU langchain-text-splitters"
   ]
  },
  {
   "cell_type": "code",
   "execution_count": 5,
   "metadata": {},
   "outputs": [],
   "source": [
    "from langchain_text_splitters import CharacterTextSplitter"
   ]
  },
  {
   "cell_type": "code",
   "execution_count": 21,
   "metadata": {},
   "outputs": [],
   "source": [
    "text_splitter = CharacterTextSplitter(\n",
    "    separator=\"\\n\\n\",\n",
    "    chunk_size=1000,\n",
    "    chunk_overlap=200,\n",
    "    length_function=len,\n",
    "    is_separator_regex=False,\n",
    ")"
   ]
  },
  {
   "cell_type": "code",
   "execution_count": 23,
   "metadata": {},
   "outputs": [
    {
     "data": {
      "text/plain": [
       "[Document(metadata={}, page_content='Hello. How are u?')]"
      ]
     },
     "execution_count": 23,
     "metadata": {},
     "output_type": "execute_result"
    }
   ],
   "source": [
    "text_splitter.create_documents([\"Hello. How are u?\"])"
   ]
  },
  {
   "cell_type": "code",
   "execution_count": 25,
   "metadata": {},
   "outputs": [],
   "source": [
    "from langchain_text_splitters import RecursiveCharacterTextSplitter"
   ]
  },
  {
   "cell_type": "code",
   "execution_count": 26,
   "metadata": {},
   "outputs": [],
   "source": [
    "text_splitter = RecursiveCharacterTextSplitter(\n",
    "    chunk_size=100,\n",
    "    chunk_overlap=20,\n",
    "    length_function=len,\n",
    "    is_separator_regex=False,\n",
    ")"
   ]
  },
  {
   "cell_type": "code",
   "execution_count": 29,
   "metadata": {},
   "outputs": [
    {
     "data": {
      "text/plain": [
       "[Document(metadata={}, page_content='Artificial Intelligence (AI) refers to the simulation of human intelligence in machines programmed'),\n",
       " Document(metadata={}, page_content='machines programmed to think, learn, and solve problems. It encompasses various technologies,'),\n",
       " Document(metadata={}, page_content='technologies, including machine learning, natural language processing, and robotics. AI'),\n",
       " Document(metadata={}, page_content='and robotics. AI applications range from virtual assistants and recommendation systems to'),\n",
       " Document(metadata={}, page_content='systems to autonomous vehicles and medical diagnostics. The technology enhances efficiency and'),\n",
       " Document(metadata={}, page_content='efficiency and accuracy across industries, transforming how we work and interact. While AI offers'),\n",
       " Document(metadata={}, page_content='While AI offers significant benefits, it also raises ethical concerns about job displacement,'),\n",
       " Document(metadata={}, page_content='job displacement, privacy, and decision-making transparency. Ongoing research aims to develop'),\n",
       " Document(metadata={}, page_content='aims to develop responsible AI that aligns with human values and societal needs.')]"
      ]
     },
     "execution_count": 29,
     "metadata": {},
     "output_type": "execute_result"
    }
   ],
   "source": [
    "text_splitter.create_documents([\"Artificial Intelligence (AI) refers to the simulation of human intelligence in machines programmed to think, learn, and solve problems. It encompasses various technologies, including machine learning, natural language processing, and robotics. AI applications range from virtual assistants and recommendation systems to autonomous vehicles and medical diagnostics. The technology enhances efficiency and accuracy across industries, transforming how we work and interact. While AI offers significant benefits, it also raises ethical concerns about job displacement, privacy, and decision-making transparency. Ongoing research aims to develop responsible AI that aligns with human values and societal needs.\"])"
   ]
  },
  {
   "cell_type": "code",
   "execution_count": null,
   "metadata": {},
   "outputs": [],
   "source": []
  }
 ],
 "metadata": {
  "kernelspec": {
   "display_name": "cloudspace",
   "language": "python",
   "name": "python3"
  },
  "language_info": {
   "name": "python",
   "version": "3.10.10"
  }
 },
 "nbformat": 4,
 "nbformat_minor": 2
}
