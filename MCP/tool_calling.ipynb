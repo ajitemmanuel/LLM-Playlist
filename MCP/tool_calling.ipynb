{
 "cells": [
  {
   "cell_type": "code",
   "execution_count": 29,
   "id": "47d86737",
   "metadata": {},
   "outputs": [],
   "source": [
    "# Tool Calling Workflow (TCW) - A tool for managing and executing workflows\n",
    "#1) Tool Definition\n",
    "#2) Tool Binding\n",
    "#3) Tool Execution\n",
    "#4) The llm uses the tool to execute the workflow"
   ]
  },
  {
   "cell_type": "code",
   "execution_count": 30,
   "id": "e399b32c",
   "metadata": {},
   "outputs": [],
   "source": [
    "import os\n",
    "from dotenv import load_dotenv\n",
    "load_dotenv()\n",
    "\n",
    "OPENAI_API_KEY=os.getenv(\"OPENAI_API_KEY\")\n",
    "os.environ[\"OPENAI_API_KEY\"] = OPENAI_API_KEY"
   ]
  },
  {
   "cell_type": "code",
   "execution_count": 31,
   "id": "6fa7250b",
   "metadata": {},
   "outputs": [
    {
     "data": {
      "text/plain": [
       "AIMessage(content=\"I don't have real-time data access to provide current weather information. To find the latest weather updates for Trivandrum, I recommend checking a reliable weather website or using a weather app.\", additional_kwargs={'refusal': None}, response_metadata={'token_usage': {'completion_tokens': 38, 'prompt_tokens': 17, 'total_tokens': 55, 'completion_tokens_details': {'accepted_prediction_tokens': 0, 'audio_tokens': 0, 'reasoning_tokens': 0, 'rejected_prediction_tokens': 0}, 'prompt_tokens_details': {'audio_tokens': 0, 'cached_tokens': 0}}, 'model_name': 'gpt-4o-mini-2024-07-18', 'system_fingerprint': None, 'id': 'chatcmpl-BwAZr3LVfqS6GWx6laZnkSNUcC9OC', 'service_tier': 'default', 'finish_reason': 'stop', 'logprobs': None}, id='run--f04eca8a-effa-4910-a9f9-c04d255f42d0-0', usage_metadata={'input_tokens': 17, 'output_tokens': 38, 'total_tokens': 55, 'input_token_details': {'audio': 0, 'cache_read': 0}, 'output_token_details': {'audio': 0, 'reasoning': 0}})"
      ]
     },
     "execution_count": 31,
     "metadata": {},
     "output_type": "execute_result"
    }
   ],
   "source": [
    "from langchain_openai import ChatOpenAI\n",
    "\n",
    "llm = ChatOpenAI(model=\"gpt-4o-mini\", temperature=0.0)\n",
    "llm.invoke(\"What is the weather in Trivandrum?\")"
   ]
  },
  {
   "cell_type": "code",
   "execution_count": 32,
   "id": "58fef0a6",
   "metadata": {},
   "outputs": [],
   "source": [
    "from langchain_core.tools import tool"
   ]
  },
  {
   "cell_type": "code",
   "execution_count": 33,
   "id": "13857c4a",
   "metadata": {},
   "outputs": [],
   "source": [
    "@tool\n",
    "def get_weather(location: str) -> str:\n",
    "    \"\"\"\n",
    "    A mock weather API that returns the weather for a given location.\n",
    "    \"\"\"\n",
    "    return f\"The weather in {location} is sunny with a high of 30°C.\""
   ]
  },
  {
   "cell_type": "code",
   "execution_count": 34,
   "id": "3e75c276",
   "metadata": {},
   "outputs": [
    {
     "data": {
      "text/plain": [
       "'The weather in Trivandrum is sunny with a high of 30°C.'"
      ]
     },
     "execution_count": 34,
     "metadata": {},
     "output_type": "execute_result"
    }
   ],
   "source": [
    "get_weather.invoke({\"location\": \"Trivandrum\"})"
   ]
  },
  {
   "cell_type": "code",
   "execution_count": 35,
   "id": "3a1b7b72",
   "metadata": {},
   "outputs": [
    {
     "data": {
      "text/plain": [
       "StructuredTool(name='get_weather', description='A mock weather API that returns the weather for a given location.', args_schema=<class 'langchain_core.utils.pydantic.get_weather'>, func=<function get_weather at 0x000002B653920CC0>)"
      ]
     },
     "execution_count": 35,
     "metadata": {},
     "output_type": "execute_result"
    }
   ],
   "source": [
    "get_weather"
   ]
  },
  {
   "cell_type": "code",
   "execution_count": 36,
   "id": "b90928f7",
   "metadata": {},
   "outputs": [],
   "source": [
    "tools = [get_weather]"
   ]
  },
  {
   "cell_type": "code",
   "execution_count": 37,
   "id": "f1447431",
   "metadata": {},
   "outputs": [],
   "source": [
    "llm_with_tools = llm.bind_tools(tools)"
   ]
  },
  {
   "cell_type": "code",
   "execution_count": 38,
   "id": "084a684c",
   "metadata": {},
   "outputs": [
    {
     "data": {
      "text/plain": [
       "AIMessage(content='', additional_kwargs={'tool_calls': [{'id': 'call_MtLSnQyOC8JBkmv3O9m5TOsR', 'function': {'arguments': '{\"location\":\"Trivandrum\"}', 'name': 'get_weather'}, 'type': 'function'}], 'refusal': None}, response_metadata={'token_usage': {'completion_tokens': 17, 'prompt_tokens': 60, 'total_tokens': 77, 'completion_tokens_details': {'accepted_prediction_tokens': 0, 'audio_tokens': 0, 'reasoning_tokens': 0, 'rejected_prediction_tokens': 0}, 'prompt_tokens_details': {'audio_tokens': 0, 'cached_tokens': 0}}, 'model_name': 'gpt-4o-mini-2024-07-18', 'system_fingerprint': None, 'id': 'chatcmpl-BwAZsBrzcQwMbPhukED5wHLLYeQpc', 'service_tier': 'default', 'finish_reason': 'tool_calls', 'logprobs': None}, id='run--bebccd31-7708-49dd-8ebf-b5b4c6f2d7d8-0', tool_calls=[{'name': 'get_weather', 'args': {'location': 'Trivandrum'}, 'id': 'call_MtLSnQyOC8JBkmv3O9m5TOsR', 'type': 'tool_call'}], usage_metadata={'input_tokens': 60, 'output_tokens': 17, 'total_tokens': 77, 'input_token_details': {'audio': 0, 'cache_read': 0}, 'output_token_details': {'audio': 0, 'reasoning': 0}})"
      ]
     },
     "execution_count": 38,
     "metadata": {},
     "output_type": "execute_result"
    }
   ],
   "source": [
    "result = llm_with_tools.invoke(\"What is the weather in Trivandrum?\")\n",
    "result"
   ]
  },
  {
   "cell_type": "code",
   "execution_count": 39,
   "id": "f9f34ea5",
   "metadata": {},
   "outputs": [
    {
     "data": {
      "text/plain": [
       "[{'name': 'get_weather',\n",
       "  'args': {'location': 'Trivandrum'},\n",
       "  'id': 'call_MtLSnQyOC8JBkmv3O9m5TOsR',\n",
       "  'type': 'tool_call'}]"
      ]
     },
     "execution_count": 39,
     "metadata": {},
     "output_type": "execute_result"
    }
   ],
   "source": [
    "result.tool_calls"
   ]
  },
  {
   "cell_type": "code",
   "execution_count": 40,
   "id": "5188bd93",
   "metadata": {},
   "outputs": [
    {
     "data": {
      "text/plain": [
       "AIMessage(content='', additional_kwargs={'tool_calls': [{'id': 'call_ewhZ7xNCuBWgosaNncYXHUNb', 'function': {'arguments': '{\"location\":\"Trivandrum\"}', 'name': 'get_weather'}, 'type': 'function'}], 'refusal': None}, response_metadata={'token_usage': {'completion_tokens': 17, 'prompt_tokens': 60, 'total_tokens': 77, 'completion_tokens_details': {'accepted_prediction_tokens': 0, 'audio_tokens': 0, 'reasoning_tokens': 0, 'rejected_prediction_tokens': 0}, 'prompt_tokens_details': {'audio_tokens': 0, 'cached_tokens': 0}}, 'model_name': 'gpt-4o-mini-2024-07-18', 'system_fingerprint': None, 'id': 'chatcmpl-BwAZtx20uY5RNhheZF3K0MMsi5X9z', 'service_tier': 'default', 'finish_reason': 'tool_calls', 'logprobs': None}, id='run--9affcd2b-2d39-4d2b-b99c-49eb579f3d19-0', tool_calls=[{'name': 'get_weather', 'args': {'location': 'Trivandrum'}, 'id': 'call_ewhZ7xNCuBWgosaNncYXHUNb', 'type': 'tool_call'}], usage_metadata={'input_tokens': 60, 'output_tokens': 17, 'total_tokens': 77, 'input_token_details': {'audio': 0, 'cache_read': 0}, 'output_token_details': {'audio': 0, 'reasoning': 0}})"
      ]
     },
     "execution_count": 40,
     "metadata": {},
     "output_type": "execute_result"
    }
   ],
   "source": [
    "from langchain_core.messages import HumanMessage, ToolMessage\n",
    "\n",
    "messages = [HumanMessage(content=\"What is the weather in Trivandrum?\")]\n",
    "\n",
    "llm_output = llm_with_tools.invoke(messages)\n",
    "llm_output"
   ]
  },
  {
   "cell_type": "code",
   "execution_count": 41,
   "id": "14a75a2d",
   "metadata": {},
   "outputs": [],
   "source": [
    "tool_mapping = {\"get_weather\": get_weather}"
   ]
  },
  {
   "cell_type": "code",
   "execution_count": 42,
   "id": "09454fb2",
   "metadata": {},
   "outputs": [],
   "source": [
    "for tool_call in result.tool_calls:\n",
    "    tool = tool_mapping[tool_call['name'].lower()]\n",
    "    tool_output = tool.invoke(tool_call['args'])\n",
    "    messages.append(ToolMessage(tool_output, tool_call_id=tool_call['id']))"
   ]
  },
  {
   "cell_type": "code",
   "execution_count": 43,
   "id": "6be31b50",
   "metadata": {},
   "outputs": [
    {
     "data": {
      "text/plain": [
       "[HumanMessage(content='What is the weather in Trivandrum?', additional_kwargs={}, response_metadata={}),\n",
       " ToolMessage(content='The weather in Trivandrum is sunny with a high of 30°C.', tool_call_id='call_MtLSnQyOC8JBkmv3O9m5TOsR')]"
      ]
     },
     "execution_count": 43,
     "metadata": {},
     "output_type": "execute_result"
    }
   ],
   "source": [
    "messages"
   ]
  },
  {
   "cell_type": "code",
   "execution_count": 44,
   "id": "6a081074",
   "metadata": {},
   "outputs": [
    {
     "data": {
      "text/plain": [
       "{'name': 'get_weather',\n",
       " 'args': {'location': 'Trivandrum'},\n",
       " 'id': 'call_MtLSnQyOC8JBkmv3O9m5TOsR',\n",
       " 'type': 'tool_call'}"
      ]
     },
     "execution_count": 44,
     "metadata": {},
     "output_type": "execute_result"
    }
   ],
   "source": [
    "tool_call"
   ]
  },
  {
   "cell_type": "code",
   "execution_count": 45,
   "id": "77858d5b",
   "metadata": {},
   "outputs": [
    {
     "data": {
      "text/plain": [
       "'get_weather'"
      ]
     },
     "execution_count": 45,
     "metadata": {},
     "output_type": "execute_result"
    }
   ],
   "source": [
    "tool_call['name'].lower()"
   ]
  },
  {
   "cell_type": "code",
   "execution_count": 46,
   "id": "37d4a754",
   "metadata": {},
   "outputs": [
    {
     "data": {
      "text/plain": [
       "StructuredTool(name='get_weather', description='A mock weather API that returns the weather for a given location.', args_schema=<class 'langchain_core.utils.pydantic.get_weather'>, func=<function get_weather at 0x000002B653920CC0>)"
      ]
     },
     "execution_count": 46,
     "metadata": {},
     "output_type": "execute_result"
    }
   ],
   "source": [
    "tool_mapping[tool_call['name'].lower()]"
   ]
  },
  {
   "cell_type": "code",
   "execution_count": 47,
   "id": "77e83c52",
   "metadata": {},
   "outputs": [
    {
     "data": {
      "text/plain": [
       "StructuredTool(name='get_weather', description='A mock weather API that returns the weather for a given location.', args_schema=<class 'langchain_core.utils.pydantic.get_weather'>, func=<function get_weather at 0x000002B653920CC0>)"
      ]
     },
     "execution_count": 47,
     "metadata": {},
     "output_type": "execute_result"
    }
   ],
   "source": [
    "get_weather"
   ]
  },
  {
   "cell_type": "code",
   "execution_count": 48,
   "id": "db170b5f",
   "metadata": {},
   "outputs": [
    {
     "data": {
      "text/plain": [
       "[HumanMessage(content='What is the weather in Trivandrum?', additional_kwargs={}, response_metadata={}),\n",
       " ToolMessage(content='The weather in Trivandrum is sunny with a high of 30°C.', tool_call_id='call_MtLSnQyOC8JBkmv3O9m5TOsR')]"
      ]
     },
     "execution_count": 48,
     "metadata": {},
     "output_type": "execute_result"
    }
   ],
   "source": [
    "messages"
   ]
  },
  {
   "cell_type": "code",
   "execution_count": 51,
   "id": "8920c9b5",
   "metadata": {},
   "outputs": [],
   "source": [
    "from langchain.agents import AgentExecutor, create_tool_calling_agent, initialize_agent"
   ]
  },
  {
   "cell_type": "code",
   "execution_count": 52,
   "id": "2ffd4922",
   "metadata": {},
   "outputs": [
    {
     "name": "stderr",
     "output_type": "stream",
     "text": [
      "C:\\Users\\ajite\\AppData\\Local\\Temp\\ipykernel_21080\\2670483501.py:1: LangChainDeprecationWarning: LangChain agents will continue to be supported, but it is recommended for new use cases to be built with LangGraph. LangGraph offers a more flexible and full-featured framework for building agents, including support for tool-calling, persistence of state, and human-in-the-loop workflows. For details, refer to the `LangGraph documentation <https://langchain-ai.github.io/langgraph/>`_ as well as guides for `Migrating from AgentExecutor <https://python.langchain.com/docs/how_to/migrate_agent/>`_ and LangGraph's `Pre-built ReAct agent <https://langchain-ai.github.io/langgraph/how-tos/create-react-agent/>`_.\n",
      "  agent = initialize_agent(llm=llm, tools=tools)\n"
     ]
    }
   ],
   "source": [
    "agent = initialize_agent(llm=llm, tools=tools)"
   ]
  },
  {
   "cell_type": "code",
   "execution_count": 53,
   "id": "b8c98376",
   "metadata": {},
   "outputs": [
    {
     "data": {
      "text/plain": [
       "{'input': 'What is the weather in Trivandrum?',\n",
       " 'output': 'The weather in Trivandrum is sunny with a high of 30°C.'}"
      ]
     },
     "execution_count": 53,
     "metadata": {},
     "output_type": "execute_result"
    }
   ],
   "source": [
    "agent.invoke(\"What is the weather in Trivandrum?\")"
   ]
  },
  {
   "cell_type": "code",
   "execution_count": null,
   "id": "965183e9",
   "metadata": {},
   "outputs": [],
   "source": []
  }
 ],
 "metadata": {
  "kernelspec": {
   "display_name": "mcpstudy",
   "language": "python",
   "name": "python3"
  },
  "language_info": {
   "codemirror_mode": {
    "name": "ipython",
    "version": 3
   },
   "file_extension": ".py",
   "mimetype": "text/x-python",
   "name": "python",
   "nbconvert_exporter": "python",
   "pygments_lexer": "ipython3",
   "version": "3.11.11"
  }
 },
 "nbformat": 4,
 "nbformat_minor": 5
}
