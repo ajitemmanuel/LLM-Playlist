{
 "cells": [
  {
   "cell_type": "code",
   "execution_count": 1,
   "id": "47d86737",
   "metadata": {},
   "outputs": [],
   "source": [
    "# Tool Calling Workflow (TCW) - A tool for managing and executing workflows\n",
    "#1) Tool Definition\n",
    "#2) Tool Binding\n",
    "#3) Tool Execution\n",
    "#4) The llm uses the tool to execute the workflow"
   ]
  },
  {
   "cell_type": "code",
   "execution_count": 2,
   "id": "e399b32c",
   "metadata": {},
   "outputs": [],
   "source": [
    "import os\n",
    "from dotenv import load_dotenv\n",
    "load_dotenv()\n",
    "\n",
    "OPENAI_API_KEY=os.getenv(\"OPENAI_API_KEY\")\n",
    "os.environ[\"OPENAI_API_KEY\"] = OPENAI_API_KEY"
   ]
  },
  {
   "cell_type": "code",
   "execution_count": 3,
   "id": "6fa7250b",
   "metadata": {},
   "outputs": [
    {
     "data": {
      "text/plain": [
       "AIMessage(content=\"I don't have real-time weather data. To get the current weather in Trivandrum, I recommend checking a reliable weather website or app for the most up-to-date information.\", additional_kwargs={'refusal': None}, response_metadata={'token_usage': {'completion_tokens': 36, 'prompt_tokens': 17, 'total_tokens': 53, 'completion_tokens_details': {'accepted_prediction_tokens': 0, 'audio_tokens': 0, 'reasoning_tokens': 0, 'rejected_prediction_tokens': 0}, 'prompt_tokens_details': {'audio_tokens': 0, 'cached_tokens': 0}}, 'model_name': 'gpt-4o-mini-2024-07-18', 'system_fingerprint': None, 'id': 'chatcmpl-BwAH8psar6BKExQBIHAHgt72UW1gi', 'service_tier': 'default', 'finish_reason': 'stop', 'logprobs': None}, id='run--19534388-3afd-4b05-8e28-526a47cab477-0', usage_metadata={'input_tokens': 17, 'output_tokens': 36, 'total_tokens': 53, 'input_token_details': {'audio': 0, 'cache_read': 0}, 'output_token_details': {'audio': 0, 'reasoning': 0}})"
      ]
     },
     "execution_count": 3,
     "metadata": {},
     "output_type": "execute_result"
    }
   ],
   "source": [
    "from langchain_openai import ChatOpenAI\n",
    "\n",
    "llm = ChatOpenAI(model=\"gpt-4o-mini\", temperature=0.0)\n",
    "llm.invoke(\"What is the weather in Trivandrum?\")"
   ]
  },
  {
   "cell_type": "code",
   "execution_count": 4,
   "id": "58fef0a6",
   "metadata": {},
   "outputs": [],
   "source": [
    "from langchain_core.tools import tool"
   ]
  },
  {
   "cell_type": "code",
   "execution_count": 5,
   "id": "13857c4a",
   "metadata": {},
   "outputs": [],
   "source": [
    "@tool\n",
    "def get_weather(location: str) -> str:\n",
    "    \"\"\"\n",
    "    A mock weather API that returns the weather for a given location.\n",
    "    \"\"\"\n",
    "    return f\"The weather in {location} is sunny with a high of 30°C.\""
   ]
  },
  {
   "cell_type": "code",
   "execution_count": 6,
   "id": "3e75c276",
   "metadata": {},
   "outputs": [
    {
     "data": {
      "text/plain": [
       "'The weather in Trivandrum is sunny with a high of 30°C.'"
      ]
     },
     "execution_count": 6,
     "metadata": {},
     "output_type": "execute_result"
    }
   ],
   "source": [
    "get_weather.invoke({\"location\": \"Trivandrum\"})"
   ]
  },
  {
   "cell_type": "code",
   "execution_count": 7,
   "id": "3a1b7b72",
   "metadata": {},
   "outputs": [
    {
     "data": {
      "text/plain": [
       "StructuredTool(name='get_weather', description='A mock weather API that returns the weather for a given location.', args_schema=<class 'langchain_core.utils.pydantic.get_weather'>, func=<function get_weather at 0x000002B64FD90360>)"
      ]
     },
     "execution_count": 7,
     "metadata": {},
     "output_type": "execute_result"
    }
   ],
   "source": [
    "get_weather"
   ]
  },
  {
   "cell_type": "code",
   "execution_count": 8,
   "id": "b90928f7",
   "metadata": {},
   "outputs": [],
   "source": [
    "tools = [get_weather]"
   ]
  },
  {
   "cell_type": "code",
   "execution_count": 9,
   "id": "f1447431",
   "metadata": {},
   "outputs": [],
   "source": [
    "llm_with_tools = llm.bind_tools(tools)"
   ]
  },
  {
   "cell_type": "code",
   "execution_count": 10,
   "id": "084a684c",
   "metadata": {},
   "outputs": [
    {
     "data": {
      "text/plain": [
       "AIMessage(content='', additional_kwargs={'tool_calls': [{'id': 'call_Sq5S2P8jAyzsIMdUBw9dVgxH', 'function': {'arguments': '{\"location\":\"Trivandrum\"}', 'name': 'get_weather'}, 'type': 'function'}], 'refusal': None}, response_metadata={'token_usage': {'completion_tokens': 17, 'prompt_tokens': 60, 'total_tokens': 77, 'completion_tokens_details': {'accepted_prediction_tokens': 0, 'audio_tokens': 0, 'reasoning_tokens': 0, 'rejected_prediction_tokens': 0}, 'prompt_tokens_details': {'audio_tokens': 0, 'cached_tokens': 0}}, 'model_name': 'gpt-4o-mini-2024-07-18', 'system_fingerprint': None, 'id': 'chatcmpl-BwAHAGfn6RF1U7gyee96kRFNWd2Ii', 'service_tier': 'default', 'finish_reason': 'tool_calls', 'logprobs': None}, id='run--3dc0ed81-3921-49bb-bcb6-dee1bca31098-0', tool_calls=[{'name': 'get_weather', 'args': {'location': 'Trivandrum'}, 'id': 'call_Sq5S2P8jAyzsIMdUBw9dVgxH', 'type': 'tool_call'}], usage_metadata={'input_tokens': 60, 'output_tokens': 17, 'total_tokens': 77, 'input_token_details': {'audio': 0, 'cache_read': 0}, 'output_token_details': {'audio': 0, 'reasoning': 0}})"
      ]
     },
     "execution_count": 10,
     "metadata": {},
     "output_type": "execute_result"
    }
   ],
   "source": [
    "result = llm_with_tools.invoke(\"What is the weather in Trivandrum?\")\n",
    "result"
   ]
  },
  {
   "cell_type": "code",
   "execution_count": 11,
   "id": "f9f34ea5",
   "metadata": {},
   "outputs": [
    {
     "data": {
      "text/plain": [
       "[{'name': 'get_weather',\n",
       "  'args': {'location': 'Trivandrum'},\n",
       "  'id': 'call_Sq5S2P8jAyzsIMdUBw9dVgxH',\n",
       "  'type': 'tool_call'}]"
      ]
     },
     "execution_count": 11,
     "metadata": {},
     "output_type": "execute_result"
    }
   ],
   "source": [
    "result.tool_calls"
   ]
  },
  {
   "cell_type": "code",
   "execution_count": 12,
   "id": "5188bd93",
   "metadata": {},
   "outputs": [
    {
     "data": {
      "text/plain": [
       "AIMessage(content='', additional_kwargs={'tool_calls': [{'id': 'call_a1E76JjiE309ZmgvvSXh5fsy', 'function': {'arguments': '{\"location\":\"Trivandrum\"}', 'name': 'get_weather'}, 'type': 'function'}], 'refusal': None}, response_metadata={'token_usage': {'completion_tokens': 17, 'prompt_tokens': 60, 'total_tokens': 77, 'completion_tokens_details': {'accepted_prediction_tokens': 0, 'audio_tokens': 0, 'reasoning_tokens': 0, 'rejected_prediction_tokens': 0}, 'prompt_tokens_details': {'audio_tokens': 0, 'cached_tokens': 0}}, 'model_name': 'gpt-4o-mini-2024-07-18', 'system_fingerprint': None, 'id': 'chatcmpl-BwAHCSm5ffz09yThJ908sSvHBYsDo', 'service_tier': 'default', 'finish_reason': 'tool_calls', 'logprobs': None}, id='run--bc458982-74d0-4726-ae2d-cbcbb599a9c5-0', tool_calls=[{'name': 'get_weather', 'args': {'location': 'Trivandrum'}, 'id': 'call_a1E76JjiE309ZmgvvSXh5fsy', 'type': 'tool_call'}], usage_metadata={'input_tokens': 60, 'output_tokens': 17, 'total_tokens': 77, 'input_token_details': {'audio': 0, 'cache_read': 0}, 'output_token_details': {'audio': 0, 'reasoning': 0}})"
      ]
     },
     "execution_count": 12,
     "metadata": {},
     "output_type": "execute_result"
    }
   ],
   "source": [
    "from langchain_core.messages import HumanMessage, ToolMessage\n",
    "\n",
    "messages = [HumanMessage(content=\"What is the weather in Trivandrum?\")]\n",
    "\n",
    "llm_output = llm_with_tools.invoke(messages)\n",
    "llm_output"
   ]
  },
  {
   "cell_type": "code",
   "execution_count": 25,
   "id": "14a75a2d",
   "metadata": {},
   "outputs": [],
   "source": [
    "tool_mapping = {\"get_weather\": get_weather}"
   ]
  },
  {
   "cell_type": "code",
   "execution_count": 18,
   "id": "09454fb2",
   "metadata": {},
   "outputs": [],
   "source": [
    "for tool_call in result.tool_calls:\n",
    "    tool = tool_mapping[tool_call['name'].lower()]\n",
    "    tool_output = tool.invoke(tool_call['args'])\n",
    "    messages.append(ToolMessage(tool_output, tool_call_id=tool_call['id']))"
   ]
  },
  {
   "cell_type": "code",
   "execution_count": 19,
   "id": "6be31b50",
   "metadata": {},
   "outputs": [
    {
     "data": {
      "text/plain": [
       "[HumanMessage(content='What is the weather in Trivandrum?', additional_kwargs={}, response_metadata={}),\n",
       " ToolMessage(content='The weather in Trivandrum is sunny with a high of 30°C.', tool_call_id='call_Sq5S2P8jAyzsIMdUBw9dVgxH')]"
      ]
     },
     "execution_count": 19,
     "metadata": {},
     "output_type": "execute_result"
    }
   ],
   "source": [
    "messages"
   ]
  },
  {
   "cell_type": "code",
   "execution_count": 20,
   "id": "6a081074",
   "metadata": {},
   "outputs": [
    {
     "data": {
      "text/plain": [
       "{'name': 'get_weather',\n",
       " 'args': {'location': 'Trivandrum'},\n",
       " 'id': 'call_Sq5S2P8jAyzsIMdUBw9dVgxH',\n",
       " 'type': 'tool_call'}"
      ]
     },
     "execution_count": 20,
     "metadata": {},
     "output_type": "execute_result"
    }
   ],
   "source": [
    "tool_call"
   ]
  },
  {
   "cell_type": "code",
   "execution_count": 22,
   "id": "77858d5b",
   "metadata": {},
   "outputs": [
    {
     "data": {
      "text/plain": [
       "'get_weather'"
      ]
     },
     "execution_count": 22,
     "metadata": {},
     "output_type": "execute_result"
    }
   ],
   "source": [
    "tool_call['name'].lower()"
   ]
  },
  {
   "cell_type": "code",
   "execution_count": 26,
   "id": "37d4a754",
   "metadata": {},
   "outputs": [
    {
     "data": {
      "text/plain": [
       "StructuredTool(name='get_weather', description='A mock weather API that returns the weather for a given location.', args_schema=<class 'langchain_core.utils.pydantic.get_weather'>, func=<function get_weather at 0x000002B64FD90360>)"
      ]
     },
     "execution_count": 26,
     "metadata": {},
     "output_type": "execute_result"
    }
   ],
   "source": [
    "tool_mapping[tool_call['name'].lower()]"
   ]
  },
  {
   "cell_type": "code",
   "execution_count": 27,
   "id": "77e83c52",
   "metadata": {},
   "outputs": [
    {
     "data": {
      "text/plain": [
       "StructuredTool(name='get_weather', description='A mock weather API that returns the weather for a given location.', args_schema=<class 'langchain_core.utils.pydantic.get_weather'>, func=<function get_weather at 0x000002B64FD90360>)"
      ]
     },
     "execution_count": 27,
     "metadata": {},
     "output_type": "execute_result"
    }
   ],
   "source": [
    "get_weather"
   ]
  },
  {
   "cell_type": "code",
   "execution_count": 28,
   "id": "db170b5f",
   "metadata": {},
   "outputs": [
    {
     "data": {
      "text/plain": [
       "[HumanMessage(content='What is the weather in Trivandrum?', additional_kwargs={}, response_metadata={}),\n",
       " ToolMessage(content='The weather in Trivandrum is sunny with a high of 30°C.', tool_call_id='call_Sq5S2P8jAyzsIMdUBw9dVgxH')]"
      ]
     },
     "execution_count": 28,
     "metadata": {},
     "output_type": "execute_result"
    }
   ],
   "source": [
    "messages"
   ]
  },
  {
   "cell_type": "code",
   "execution_count": null,
   "id": "8920c9b5",
   "metadata": {},
   "outputs": [],
   "source": []
  }
 ],
 "metadata": {
  "kernelspec": {
   "display_name": "mcpstudy",
   "language": "python",
   "name": "python3"
  },
  "language_info": {
   "codemirror_mode": {
    "name": "ipython",
    "version": 3
   },
   "file_extension": ".py",
   "mimetype": "text/x-python",
   "name": "python",
   "nbconvert_exporter": "python",
   "pygments_lexer": "ipython3",
   "version": "3.11.11"
  }
 },
 "nbformat": 4,
 "nbformat_minor": 5
}
