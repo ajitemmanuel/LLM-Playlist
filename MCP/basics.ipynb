{
 "cells": [
  {
   "cell_type": "markdown",
   "id": "151216c5",
   "metadata": {},
   "source": [
    "# Study Basics"
   ]
  },
  {
   "cell_type": "markdown",
   "id": "419f6420",
   "metadata": {},
   "source": [
    "### JSON - JavaScript Object Notation"
   ]
  },
  {
   "cell_type": "code",
   "execution_count": 1,
   "id": "5c774ad9",
   "metadata": {},
   "outputs": [
    {
     "data": {
      "text/plain": [
       "{'name': 'Alice', 'age': 25, 'isStudent': False}"
      ]
     },
     "execution_count": 1,
     "metadata": {},
     "output_type": "execute_result"
    }
   ],
   "source": [
    "{\n",
    "  \"name\": \"Alice\",\n",
    "  \"age\": 25,\n",
    "  \"isStudent\": False\n",
    "}"
   ]
  },
  {
   "cell_type": "code",
   "execution_count": 2,
   "id": "bdb77b51",
   "metadata": {},
   "outputs": [],
   "source": [
    "# RPC means remote procedure call, which is a protocol that allows a program to execute code on a remote server as if it were local."
   ]
  },
  {
   "cell_type": "code",
   "execution_count": 3,
   "id": "1614a671",
   "metadata": {},
   "outputs": [
    {
     "data": {
      "text/plain": [
       "'\\nJSON -RPC is a remote procedure call protocol that uses JSON as its data format. \\nIt allows for communication between a client and a server over a network, enabling the client to \\ninvoke methods on the server and receive results in a structured format. JSON-RPC is lightweight and easy to implement, \\nmaking it suitable for various applications, including web services and distributed systems.\\n'"
      ]
     },
     "execution_count": 3,
     "metadata": {},
     "output_type": "execute_result"
    }
   ],
   "source": [
    "'''\n",
    "JSON -RPC is a remote procedure call protocol that uses JSON as its data format. \n",
    "It allows for communication between a client and a server over a network, enabling the client to \n",
    "invoke methods on the server and receive results in a structured format. JSON-RPC is lightweight and easy to implement, \n",
    "making it suitable for various applications, including web services and distributed systems.\n",
    "'''"
   ]
  },
  {
   "cell_type": "code",
   "execution_count": 4,
   "id": "a0a89ba2",
   "metadata": {},
   "outputs": [
    {
     "data": {
      "text/plain": [
       "{'jsonrpc': '2.0', 'method': 'add', 'params': [5, 3], 'id': 1}"
      ]
     },
     "execution_count": 4,
     "metadata": {},
     "output_type": "execute_result"
    }
   ],
   "source": [
    "{\n",
    "    \"jsonrpc\": \"2.0\",\n",
    "    \"method\": \"add\",\n",
    "    \"params\": [5,3],\n",
    "    \"id\": 1\n",
    "}"
   ]
  },
  {
   "cell_type": "code",
   "execution_count": null,
   "id": "af70f561",
   "metadata": {},
   "outputs": [],
   "source": []
  }
 ],
 "metadata": {
  "kernelspec": {
   "display_name": "mcpstudy",
   "language": "python",
   "name": "python3"
  },
  "language_info": {
   "codemirror_mode": {
    "name": "ipython",
    "version": 3
   },
   "file_extension": ".py",
   "mimetype": "text/x-python",
   "name": "python",
   "nbconvert_exporter": "python",
   "pygments_lexer": "ipython3",
   "version": "3.11.11"
  }
 },
 "nbformat": 4,
 "nbformat_minor": 5
}
